{
 "cells": [
  {
   "cell_type": "markdown",
   "id": "7efcb5f4",
   "metadata": {},
   "source": [
    "# Исследование отелей в Сочи\n",
    "Участники и вклад каждого:\n",
    "- Арзуманян Василий - предварительная обработка данных, разведывательный анализ\n",
    "- Вежба Анна - визуализация, создание новых признаков, оформление\n",
    "- Лепехин Алексей - сбор данных, машинное обучение, создание новых признаков"
   ]
  },
  {
   "cell_type": "markdown",
   "id": "b1b1e423",
   "metadata": {},
   "source": [
    "Скоро лето... В связи с непростой геополитической обставкой перед нами встала задача не из легких: как настоящие экономисты мы решили импортозаместить привычные всем путешествия в Турцию и Египет и отправиться в родной СОЧИ!!! С этой целью мы решили проанализировать предложение отелей в этом городе и подобрать наиболее подходящие для нас (бедных студентов) варианты. Так как из-за ряда финансовых ограничений, вызванных санкциями, для нас оказались недоступными часть сайтов по бронированию объектов размещения, мы импортозаместили и сайт - все данные брались с сайта Островок (ссылка представлена в ячейке ниже)"
   ]
  },
  {
   "cell_type": "markdown",
   "id": "c4790e02",
   "metadata": {},
   "source": [
    "https://ostrovok.ru/hotel/russia/sochi/?q=5580&dates=02.08.2023-03.08.2023&guests=2&price=one&sid=9d434347-dc76-4051-90ca-31aa0c71ae1a"
   ]
  },
  {
   "cell_type": "markdown",
   "id": "f0c67a68",
   "metadata": {},
   "source": [
    "**Примечания к загружаемым файлам**\n",
    "- hotel_dataset_osnova - датасет после парсинга\n",
    "- new.csv - датасет после добавления новых признаков\n",
    "- new_preprocessed.csv - датасет после предобработки (используется в разведывательном анализе данных, визуализации и машинном обучении)"
   ]
  },
  {
   "cell_type": "markdown",
   "id": "09907e1e",
   "metadata": {},
   "source": [
    "В нашем исследовании мы выдвигаем несколько гипотез:\n",
    "1. Между звездным рейтингом и ценой существует прямая взаимосвязь\n",
    "2. Не существует прямой зависимости цены номера от наличия в объекте размещения бара\n",
    "3. Существует прямая зависимость цены на номер в отеле от предоставления бесплатной парковки\n",
    "4. Существует обратная зависимость цены на номер в отеле от расстояния до центра города (чем меньше расстояние, тем больше цена)"
   ]
  },
  {
   "cell_type": "markdown",
   "id": "6035d091",
   "metadata": {},
   "source": [
    "1. [Сбор данных](#sbor)\n",
    "2. [Создание новых признаков](#new_pr)\n",
    "3. [Анализ и обработка данных](#aod)\n",
    "4. [Разведывательный анализ данных и визуализация](#analysis)\n",
    "5. [Машинное обучение](#mo)"
   ]
  },
  {
   "cell_type": "markdown",
   "id": "1cb72c12",
   "metadata": {},
   "source": [
    " <a name=\"sbor\"></a>\n",
    "## Сбор данных"
   ]
  },
  {
   "cell_type": "code",
   "execution_count": 1,
   "id": "ffe7031b",
   "metadata": {},
   "outputs": [],
   "source": [
    "#импортируем нужные библиотеки\n",
    "import requests\n",
    "from bs4 import BeautifulSoup\n",
    "import time"
   ]
  },
  {
   "cell_type": "markdown",
   "id": "62fcff94",
   "metadata": {},
   "source": [
    "### Собираем ссылки на сайты"
   ]
  },
  {
   "cell_type": "code",
   "execution_count": 2,
   "id": "e5c61174",
   "metadata": {},
   "outputs": [],
   "source": [
    "list_with_ref = []\n",
    "for i in range(1, 55): #54 страниц на сайте со списками отелей, поэтому цикл до 55 невключительно\n",
    "    begin_of_ref = 'https://ostrovok.ru/hotel/russia/sochi/?q=5580&dates=07.08.2023-08.08.2023&guests=2&'\n",
    "    fin_of_ref = '&price=one&sid=a350e56e-c1d6-43e1-be0a-0e611823354b'\n",
    "    url = begin_of_ref + 'page=' + str(i) + fin_of_ref #склеиваем разные куски ссылки\n",
    "    response = requests.get(url)\n",
    "    soup = BeautifulSoup(response.text, \"html.parser\")\n",
    "    a_tags = soup.find_all('h2', class_='zen-hotelcard-name')\n",
    "    linkss = []\n",
    "    for a_tag in a_tags:\n",
    "        link = a_tag.find('a')['href'] #ищем ссылку на отель \n",
    "        linkss.append(link)\n",
    "    beg = '?q=5580&dates=07.08.2023-08.08.2023&guests=2&price=one&room=s-e010a429-f378-510f-9c86-d40f1eafaeb5&serp_price='\n",
    "    fin = '.5627.RUB.h-3de03a5a-5862-5319-b7a6-3c0e7867aefe&sid=a350e56e-c1d6-43e1-be0a-0e611823354b'\n",
    "    for i in range (len(linkss)):\n",
    "        linkss[i] = 'https://ostrovok.ru/' + linkss[i].split('/')[1] + '/' \\\n",
    "        + linkss[i].split('/')[2] + '/' + linkss[i].split('/')[3] + '/' + str('mid10370458') + '/' \\\n",
    "        + linkss[i].split('/')[-2] + '/' + beg + linkss[i].split('/')[-2] + fin \n",
    "        #склеиваем ссылку (были небольшие сложности с их открытием, которые пришлось обходить, склеивая их такими кусками)\n",
    "    list_with_ref.extend(linkss)\n",
    "    time.sleep(2) #ждем 2 секунды, чтобы не получить бан"
   ]
  },
  {
   "cell_type": "code",
   "execution_count": 3,
   "id": "42a9e5a7",
   "metadata": {},
   "outputs": [],
   "source": [
    "#записываем полученные ссылки в файл, чтобы не потерялись и каждый раз не пришлось парсить по новой\n",
    "with open(\"file.txt\", 'w') as f: \n",
    "    for s in list_with_ref:\n",
    "        f.write(str(s) + '\\n')"
   ]
  },
  {
   "cell_type": "markdown",
   "id": "c1b990d0",
   "metadata": {},
   "source": [
    "### Работаем с ссылками уже на конкретные отели и парсим информацию об объектах"
   ]
  },
  {
   "cell_type": "code",
   "execution_count": 4,
   "id": "9b6f400e",
   "metadata": {},
   "outputs": [],
   "source": [
    "with open(\"file.txt\", 'r') as f:\n",
    "    refs = [line.rstrip('\\n') for line in f]"
   ]
  },
  {
   "cell_type": "code",
   "execution_count": 5,
   "id": "49dbdd06",
   "metadata": {},
   "outputs": [
    {
     "data": {
      "text/plain": [
       "1350"
      ]
     },
     "execution_count": 5,
     "metadata": {},
     "output_type": "execute_result"
    }
   ],
   "source": [
    "len(set(refs))"
   ]
  },
  {
   "cell_type": "markdown",
   "id": "91b87539",
   "metadata": {},
   "source": [
    "Как можно заметить, получилось 1350 уникальных ссылок на объекты проживания, что очень хорошо, так как выборка получится большой. \n",
    "\n",
    "Главное, чтобы дальше не получилось много пропусков"
   ]
  },
  {
   "cell_type": "code",
   "execution_count": 6,
   "id": "4a92c908",
   "metadata": {},
   "outputs": [
    {
     "data": {
      "text/plain": [
       "['https://ostrovok.ru/hotel/russia/esto-sadok/mid10370458/alcont/?q=5580&dates=07.08.2023-08.08.2023&guests=2&price=one&room=s-e010a429-f378-510f-9c86-d40f1eafaeb5&serp_price=alcont.5627.RUB.h-3de03a5a-5862-5319-b7a6-3c0e7867aefe&sid=a350e56e-c1d6-43e1-be0a-0e611823354b',\n",
       " 'https://ostrovok.ru/hotel/russia/sochi/mid10370458/antika/?q=5580&dates=07.08.2023-08.08.2023&guests=2&price=one&room=s-e010a429-f378-510f-9c86-d40f1eafaeb5&serp_price=antika.5627.RUB.h-3de03a5a-5862-5319-b7a6-3c0e7867aefe&sid=a350e56e-c1d6-43e1-be0a-0e611823354b',\n",
       " 'https://ostrovok.ru/hotel/russia/esto-sadok/mid10370458/apartamentyi_goryi/?q=5580&dates=07.08.2023-08.08.2023&guests=2&price=one&room=s-e010a429-f378-510f-9c86-d40f1eafaeb5&serp_price=apartamentyi_goryi.5627.RUB.h-3de03a5a-5862-5319-b7a6-3c0e7867aefe&sid=a350e56e-c1d6-43e1-be0a-0e611823354b']"
      ]
     },
     "execution_count": 6,
     "metadata": {},
     "output_type": "execute_result"
    }
   ],
   "source": [
    "#теперь в списке хранятся ссылки на отели\n",
    "refs[:3]"
   ]
  },
  {
   "cell_type": "code",
   "execution_count": 7,
   "id": "165146eb",
   "metadata": {},
   "outputs": [
    {
     "data": {
      "text/html": [
       "<div>\n",
       "<style scoped>\n",
       "    .dataframe tbody tr th:only-of-type {\n",
       "        vertical-align: middle;\n",
       "    }\n",
       "\n",
       "    .dataframe tbody tr th {\n",
       "        vertical-align: top;\n",
       "    }\n",
       "\n",
       "    .dataframe thead th {\n",
       "        text-align: right;\n",
       "    }\n",
       "</style>\n",
       "<table border=\"1\" class=\"dataframe\">\n",
       "  <thead>\n",
       "    <tr style=\"text-align: right;\">\n",
       "      <th></th>\n",
       "      <th>Name</th>\n",
       "      <th>User_rating</th>\n",
       "      <th>Reviews_count</th>\n",
       "      <th>Star_rating</th>\n",
       "      <th>Distance_from_center</th>\n",
       "      <th>Amenities</th>\n",
       "      <th>Price</th>\n",
       "    </tr>\n",
       "  </thead>\n",
       "  <tbody>\n",
       "  </tbody>\n",
       "</table>\n",
       "</div>"
      ],
      "text/plain": [
       "Empty DataFrame\n",
       "Columns: [Name, User_rating, Reviews_count, Star_rating, Distance_from_center, Amenities, Price]\n",
       "Index: []"
      ]
     },
     "execution_count": 7,
     "metadata": {},
     "output_type": "execute_result"
    }
   ],
   "source": [
    "#создаем датасет, куда будем записывать собранные данные об отелях\n",
    "import pandas as pd\n",
    "df = pd.DataFrame()\n",
    "col_names = ['Name', 'User_rating', 'Reviews_count', 'Star_rating', 'Distance_from_center', 'Amenities', 'Price']\n",
    "df = pd.DataFrame(columns= col_names)\n",
    "df"
   ]
  },
  {
   "cell_type": "code",
   "execution_count": 8,
   "id": "7f1c0a48",
   "metadata": {},
   "outputs": [],
   "source": [
    "for i in range (len(refs)):\n",
    "    response = requests.get(refs[i])\n",
    "    soup = BeautifulSoup(response.text, 'html.parser') #получаем html-код страницы\n",
    "    hotel_name_tag = soup.find('script', type='application/ld+json') #ищем нужную информацию со страницы\n",
    "    if str(hotel_name_tag) == 'None': #если None, то информация об отеле скрыта, не учитываем ее в датасете\n",
    "        pass\n",
    "    else:\n",
    "        name = str(hotel_name_tag).split('\\n')[4].strip().split(':')[1].split('\"')[1]\n",
    "        b = str(hotel_name_tag).split('\\n')\n",
    "        if 'starRating' not in str(hotel_name_tag):\n",
    "            if 'aggregateRating' in str(hotel_name_tag):\n",
    "                num_rate = b.index('        \"aggregateRating\": {') #отвечает за пользовательский рейтинг\n",
    "                user_rating = float(b[num_rate + 3].split(':')[1].strip().strip(','))\n",
    "                user_reviews = int(b[num_rate + 4].split(':')[1].strip().strip(','))\n",
    "                star_rating = 'No stars'\n",
    "                if 'price' in str(hotel_name_tag):\n",
    "                    price = float(b[num_rate + 12].split(':')[1].strip().strip('\",'))\n",
    "        else:\n",
    "            num_star = b.index('        \"starRating\": {') #отвечает за звездный рейтинг\n",
    "            star_rating = float(b[num_star + 2].split(':')[1].strip().strip(',\"'))\n",
    "            user_rating = float(b[num_star + 9].split(':')[1].strip().strip(',\"'))\n",
    "            user_reviews = int(b[num_star + 10].split(':')[1].strip().strip(',\"'))\n",
    "            price = float(b[num_star + 18].split(':')[1].strip().strip(',\"'))\n",
    "        distance_value = soup.find('span', class_='zen-roomspage-title-distance-value').text #отвечает за расстояние до центра города\n",
    "        distance_from_center = int(distance_value.split()[0])\n",
    "        amenities = []\n",
    "        for p in soup.find_all('p', class_='zen-roomspage-amenities-amenity'):#отвечает за дополнительные удобства\n",
    "            amenity = p.text\n",
    "            amenities.append(amenity)\n",
    "        #записываем получившиеся значения в таблицу\n",
    "        df.loc[i] = [name, user_rating, user_reviews, star_rating, distance_from_center, amenities, price]\n",
    "    time.sleep(3.5) #после каждой итерации программа отдыхает 3,5 секунды, чтобы не нарваться на бан"
   ]
  },
  {
   "cell_type": "code",
   "execution_count": 9,
   "id": "c2b0d570",
   "metadata": {},
   "outputs": [
    {
     "data": {
      "text/html": [
       "<div>\n",
       "<style scoped>\n",
       "    .dataframe tbody tr th:only-of-type {\n",
       "        vertical-align: middle;\n",
       "    }\n",
       "\n",
       "    .dataframe tbody tr th {\n",
       "        vertical-align: top;\n",
       "    }\n",
       "\n",
       "    .dataframe thead th {\n",
       "        text-align: right;\n",
       "    }\n",
       "</style>\n",
       "<table border=\"1\" class=\"dataframe\">\n",
       "  <thead>\n",
       "    <tr style=\"text-align: right;\">\n",
       "      <th></th>\n",
       "      <th>Name</th>\n",
       "      <th>User_rating</th>\n",
       "      <th>Reviews_count</th>\n",
       "      <th>Star_rating</th>\n",
       "      <th>Distance_from_center</th>\n",
       "      <th>Amenities</th>\n",
       "      <th>Price</th>\n",
       "    </tr>\n",
       "  </thead>\n",
       "  <tbody>\n",
       "    <tr>\n",
       "      <th>0</th>\n",
       "      <td>Отель Alcont</td>\n",
       "      <td>8.2</td>\n",
       "      <td>107.0</td>\n",
       "      <td>4.0</td>\n",
       "      <td>317</td>\n",
       "      <td>['Сауна', 'Конференц-зал', 'Магазины', 'Лифт',...</td>\n",
       "      <td>2992.0</td>\n",
       "    </tr>\n",
       "    <tr>\n",
       "      <th>1</th>\n",
       "      <td>Отель Антика</td>\n",
       "      <td>8.8</td>\n",
       "      <td>99.0</td>\n",
       "      <td>3.0</td>\n",
       "      <td>3338</td>\n",
       "      <td>['Факс и ксерокс', 'Кондиционер', 'Удобства дл...</td>\n",
       "      <td>4213.0</td>\n",
       "    </tr>\n",
       "    <tr>\n",
       "      <th>2</th>\n",
       "      <td>Апартаменты Горы</td>\n",
       "      <td>9.0</td>\n",
       "      <td>96.0</td>\n",
       "      <td>No stars</td>\n",
       "      <td>1145</td>\n",
       "      <td>[]</td>\n",
       "      <td>3214.0</td>\n",
       "    </tr>\n",
       "    <tr>\n",
       "      <th>3</th>\n",
       "      <td>Апарт-отель &amp;quot;Метрополь&amp;quot;</td>\n",
       "      <td>9.0</td>\n",
       "      <td>116.0</td>\n",
       "      <td>4.0</td>\n",
       "      <td>1875</td>\n",
       "      <td>[]</td>\n",
       "      <td>10299.0</td>\n",
       "    </tr>\n",
       "    <tr>\n",
       "      <th>4</th>\n",
       "      <td>Гостевой дом Black sea guest house</td>\n",
       "      <td>9.0</td>\n",
       "      <td>103.0</td>\n",
       "      <td>No stars</td>\n",
       "      <td>24457</td>\n",
       "      <td>['Сауна', 'Факс и ксерокс', 'Кондиционер', 'Те...</td>\n",
       "      <td>6950.0</td>\n",
       "    </tr>\n",
       "  </tbody>\n",
       "</table>\n",
       "</div>"
      ],
      "text/plain": [
       "                                 Name  User_rating  Reviews_count Star_rating  \\\n",
       "0                        Отель Alcont          8.2          107.0         4.0   \n",
       "1                        Отель Антика          8.8           99.0         3.0   \n",
       "2                    Апартаменты Горы          9.0           96.0    No stars   \n",
       "3   Апарт-отель &quot;Метрополь&quot;          9.0          116.0         4.0   \n",
       "4  Гостевой дом Black sea guest house          9.0          103.0    No stars   \n",
       "\n",
       "   Distance_from_center                                          Amenities  \\\n",
       "0                   317  ['Сауна', 'Конференц-зал', 'Магазины', 'Лифт',...   \n",
       "1                  3338  ['Факс и ксерокс', 'Кондиционер', 'Удобства дл...   \n",
       "2                  1145                                                 []   \n",
       "3                  1875                                                 []   \n",
       "4                 24457  ['Сауна', 'Факс и ксерокс', 'Кондиционер', 'Те...   \n",
       "\n",
       "     Price  \n",
       "0   2992.0  \n",
       "1   4213.0  \n",
       "2   3214.0  \n",
       "3  10299.0  \n",
       "4   6950.0  "
      ]
     },
     "execution_count": 9,
     "metadata": {},
     "output_type": "execute_result"
    }
   ],
   "source": [
    "df.head(5)"
   ]
  },
  {
   "cell_type": "markdown",
   "id": "7a86bc25",
   "metadata": {},
   "source": [
    "*Получился датасет с 7 признаками:*\n",
    "- Название объекта проживания\n",
    "\n",
    "\n",
    "- Пользовательский рейтинг\n",
    "\n",
    "\n",
    "- Число отзывов\n",
    "\n",
    "\n",
    "- Звездный рейтинг\n",
    "\n",
    "\n",
    "- Удаленность от центра города\n",
    "\n",
    "\n",
    "- Список с дополнительными удобстваии\n",
    "\n",
    "\n",
    "- Цена за один день проживания\n"
   ]
  },
  {
   "cell_type": "code",
   "execution_count": 39,
   "id": "c2f9b1d3",
   "metadata": {},
   "outputs": [
    {
     "data": {
      "text/plain": [
       "(1337, 7)"
      ]
     },
     "execution_count": 39,
     "metadata": {},
     "output_type": "execute_result"
    }
   ],
   "source": [
    "df.shape"
   ]
  },
  {
   "cell_type": "markdown",
   "id": "056b7cd4",
   "metadata": {},
   "source": [
    "Как мы видим, получилось из 1350 объектов 1337 добавились в датасет, что достаточно неплохо - лишь о 13 отелях не получилось спарсить никакой информации (теги с информацией были скрыты)"
   ]
  },
  {
   "cell_type": "code",
   "execution_count": 11,
   "id": "b97ee59c",
   "metadata": {},
   "outputs": [],
   "source": [
    "#сохраняем датасет в файл, чтобы было удобно работать в дальнейшем, и не потерять и заново парсить\n",
    "df.to_csv('hotel_dataset_osnova')"
   ]
  },
  {
   "cell_type": "markdown",
   "id": "6513576d",
   "metadata": {},
   "source": [
    " <a name=\"new_pr\"></a>\n",
    "## Создание новых признаков"
   ]
  },
  {
   "cell_type": "code",
   "execution_count": 12,
   "id": "3072c9ea",
   "metadata": {},
   "outputs": [],
   "source": [
    "#выгружаем датасет без колонки Unnamed, дублирующий индекс (можно было удалить сразу, но уже поздно)\n",
    "data = pd.read_csv('hotel_dataset_osnova')\n",
    "data.drop(columns = 'Unnamed: 0', inplace = True)"
   ]
  },
  {
   "cell_type": "code",
   "execution_count": 13,
   "id": "423b5dae",
   "metadata": {},
   "outputs": [
    {
     "data": {
      "text/html": [
       "<div>\n",
       "<style scoped>\n",
       "    .dataframe tbody tr th:only-of-type {\n",
       "        vertical-align: middle;\n",
       "    }\n",
       "\n",
       "    .dataframe tbody tr th {\n",
       "        vertical-align: top;\n",
       "    }\n",
       "\n",
       "    .dataframe thead th {\n",
       "        text-align: right;\n",
       "    }\n",
       "</style>\n",
       "<table border=\"1\" class=\"dataframe\">\n",
       "  <thead>\n",
       "    <tr style=\"text-align: right;\">\n",
       "      <th></th>\n",
       "      <th>Name</th>\n",
       "      <th>User_rating</th>\n",
       "      <th>Reviews_count</th>\n",
       "      <th>Star_rating</th>\n",
       "      <th>Distance_from_center</th>\n",
       "      <th>Amenities</th>\n",
       "      <th>Price</th>\n",
       "    </tr>\n",
       "  </thead>\n",
       "  <tbody>\n",
       "    <tr>\n",
       "      <th>0</th>\n",
       "      <td>Отель Alcont</td>\n",
       "      <td>8.2</td>\n",
       "      <td>107.0</td>\n",
       "      <td>4.0</td>\n",
       "      <td>317</td>\n",
       "      <td>['Сауна', 'Конференц-зал', 'Магазины', 'Лифт',...</td>\n",
       "      <td>2992.0</td>\n",
       "    </tr>\n",
       "    <tr>\n",
       "      <th>1</th>\n",
       "      <td>Отель Антика</td>\n",
       "      <td>8.8</td>\n",
       "      <td>99.0</td>\n",
       "      <td>3.0</td>\n",
       "      <td>3338</td>\n",
       "      <td>['Факс и ксерокс', 'Кондиционер', 'Удобства дл...</td>\n",
       "      <td>4213.0</td>\n",
       "    </tr>\n",
       "    <tr>\n",
       "      <th>2</th>\n",
       "      <td>Апартаменты Горы</td>\n",
       "      <td>9.0</td>\n",
       "      <td>96.0</td>\n",
       "      <td>No stars</td>\n",
       "      <td>1145</td>\n",
       "      <td>[]</td>\n",
       "      <td>3214.0</td>\n",
       "    </tr>\n",
       "    <tr>\n",
       "      <th>3</th>\n",
       "      <td>Апарт-отель &amp;quot;Метрополь&amp;quot;</td>\n",
       "      <td>9.0</td>\n",
       "      <td>116.0</td>\n",
       "      <td>4.0</td>\n",
       "      <td>1875</td>\n",
       "      <td>[]</td>\n",
       "      <td>10299.0</td>\n",
       "    </tr>\n",
       "    <tr>\n",
       "      <th>4</th>\n",
       "      <td>Гостевой дом Black sea guest house</td>\n",
       "      <td>9.0</td>\n",
       "      <td>103.0</td>\n",
       "      <td>No stars</td>\n",
       "      <td>24457</td>\n",
       "      <td>['Сауна', 'Факс и ксерокс', 'Кондиционер', 'Те...</td>\n",
       "      <td>6950.0</td>\n",
       "    </tr>\n",
       "  </tbody>\n",
       "</table>\n",
       "</div>"
      ],
      "text/plain": [
       "                                 Name  User_rating  Reviews_count Star_rating  \\\n",
       "0                        Отель Alcont          8.2          107.0         4.0   \n",
       "1                        Отель Антика          8.8           99.0         3.0   \n",
       "2                    Апартаменты Горы          9.0           96.0    No stars   \n",
       "3   Апарт-отель &quot;Метрополь&quot;          9.0          116.0         4.0   \n",
       "4  Гостевой дом Black sea guest house          9.0          103.0    No stars   \n",
       "\n",
       "   Distance_from_center                                          Amenities  \\\n",
       "0                   317  ['Сауна', 'Конференц-зал', 'Магазины', 'Лифт',...   \n",
       "1                  3338  ['Факс и ксерокс', 'Кондиционер', 'Удобства дл...   \n",
       "2                  1145                                                 []   \n",
       "3                  1875                                                 []   \n",
       "4                 24457  ['Сауна', 'Факс и ксерокс', 'Кондиционер', 'Те...   \n",
       "\n",
       "     Price  \n",
       "0   2992.0  \n",
       "1   4213.0  \n",
       "2   3214.0  \n",
       "3  10299.0  \n",
       "4   6950.0  "
      ]
     },
     "execution_count": 13,
     "metadata": {},
     "output_type": "execute_result"
    }
   ],
   "source": [
    "data.head()"
   ]
  },
  {
   "cell_type": "markdown",
   "id": "d1f76d89",
   "metadata": {},
   "source": [
    "### Преобразуем колонку Amenities\n",
    "В ней лежат списки с дополнительными удобствами, нас это не устраивает, так как с ними мы не можем работать\n"
   ]
  },
  {
   "cell_type": "markdown",
   "id": "4a08b295",
   "metadata": {},
   "source": [
    "Для начала посмотрим на все встречающиеся дополнительные удобства:"
   ]
  },
  {
   "cell_type": "code",
   "execution_count": 14,
   "id": "d7d9c82b",
   "metadata": {},
   "outputs": [
    {
     "data": {
      "text/plain": [
       "{'',\n",
       " 'Wi-Fi',\n",
       " 'Wi-fi в отеле',\n",
       " 'Аквапарк',\n",
       " 'Аптека',\n",
       " 'Аптечка первой помощи',\n",
       " 'Бадминтон',\n",
       " 'Банкомат',\n",
       " 'Баня',\n",
       " 'Бар',\n",
       " 'Бассейн',\n",
       " 'Бесплатная общественная парковка поблизости',\n",
       " 'Бесплатная парковка',\n",
       " 'Бесплатная парковка рядом с отелем',\n",
       " 'Бесплатное размещение с домашними животными',\n",
       " 'Бесплатный Wi-Fi',\n",
       " 'Бесплатный прокат велосипедов',\n",
       " 'Бесплатный трансфер',\n",
       " 'Бесплатный трансфер до горнолыжного склона',\n",
       " 'Бесплатный трансфер до пляжа',\n",
       " 'Бесплатный трансфер от/до аэропорта',\n",
       " 'Бесплатный трансфер от/до жд вокзала',\n",
       " 'Бесплатный чай/кофе',\n",
       " 'Библиотека',\n",
       " 'Бизнес-центр',\n",
       " 'Бильярд',\n",
       " 'Боулинг',\n",
       " 'Верховая езда',\n",
       " 'Виндсерфинг',\n",
       " 'Винодельческое хозяйство',\n",
       " 'Возможен полный пансион',\n",
       " 'Врач',\n",
       " 'Гладильные принадлежности',\n",
       " 'Гладильные услуги',\n",
       " 'Дайвинг',\n",
       " 'Дартс',\n",
       " 'Детская игровая площадка',\n",
       " 'Детские телеканалы',\n",
       " 'Детский бассейн',\n",
       " 'Детский клуб',\n",
       " 'Джакузи',\n",
       " 'Диетическое меню (по запросу)',\n",
       " 'Доступ в интернет',\n",
       " 'Доступ на лыжах к отелю',\n",
       " 'Завтрак',\n",
       " 'Завтрак в номер',\n",
       " 'Игровая комната',\n",
       " 'Йога',\n",
       " 'Кабельное телевидение',\n",
       " 'Казино',\n",
       " 'Камера хранения',\n",
       " 'Камин',\n",
       " 'Караоке',\n",
       " 'Катание на велосипеде',\n",
       " 'Катание на лыжах',\n",
       " 'Катание на лыжах за пределами территории отеля',\n",
       " 'Кафе',\n",
       " 'Компьютер',\n",
       " 'Кондиционер',\n",
       " 'Конференц-зал',\n",
       " 'Круглосуточная стойка регистрации',\n",
       " 'Крытый бассейн',\n",
       " 'Ксерокс',\n",
       " 'Кухня',\n",
       " 'Лифт',\n",
       " 'Лыжный трансфер',\n",
       " 'Люкс для новобрачных',\n",
       " 'Магазины',\n",
       " 'Массаж',\n",
       " 'Места для курения',\n",
       " 'Микроволновая печь',\n",
       " 'Мультиязычный персонал',\n",
       " 'Настольный теннис',\n",
       " 'Номера для аллергиков',\n",
       " 'Номера для курящих',\n",
       " 'Номера для некурящих',\n",
       " 'Номера со звукоизоляцией',\n",
       " 'Оборудование для встреч и презентаций',\n",
       " 'Обслуживание номеров',\n",
       " 'Общая кухня',\n",
       " 'Оздоровительный клуб',\n",
       " 'Организация встреч и банкетов',\n",
       " 'Отель для некурящих',\n",
       " 'Открытый бассейн',\n",
       " 'Отопление',\n",
       " 'Отсутствие лифтов',\n",
       " 'Охрана',\n",
       " 'Парковка',\n",
       " 'Парковка (по запросу)',\n",
       " 'Парковка отсутствует',\n",
       " 'Парковка рядом с отелем',\n",
       " 'Паровая баня',\n",
       " 'Парусный спорт',\n",
       " 'Пеший туризм',\n",
       " 'Пинг-понг',\n",
       " 'Плавание на лодках',\n",
       " 'Площадка для барбекю',\n",
       " 'Площадка для пикника',\n",
       " 'Подходит для проведения праздничных мероприятий',\n",
       " 'Поле для гольфа',\n",
       " 'Полотенца для пляжа/бассейна',\n",
       " 'Помещение для хранения лыж',\n",
       " 'Прачечная',\n",
       " 'Прокат автомобилей',\n",
       " 'Прокат велосипедов',\n",
       " 'Прокат видео- и компьютерной техники',\n",
       " 'Прокат лыжной экипировки',\n",
       " 'Прокат снегоходов и квадроциклов',\n",
       " 'Работают лифты для доступа к верхним этажам',\n",
       " 'Развлекательные мероприятия',\n",
       " 'Развлечения на воде',\n",
       " 'Размещение подходит для семей/детей',\n",
       " 'Размещение с домашними животными',\n",
       " 'Размещение с домашними животными (меньше 5 кг)',\n",
       " 'Размещение с домашними животными (меньше 5 кг) (за дополнительную плату)',\n",
       " 'Размещение с домашними животными не допускается',\n",
       " 'Ресторан',\n",
       " 'Рыбалка',\n",
       " 'Рядом с пляжем',\n",
       " 'Салон красоты',\n",
       " 'Сауна',\n",
       " 'Сезонный открытый бассейн',\n",
       " 'Сейф',\n",
       " 'Сквош',\n",
       " 'Сноркелинг',\n",
       " 'Солярий',\n",
       " 'Спа-центр',\n",
       " 'Стиральная машина',\n",
       " 'Телевизор',\n",
       " 'Телефон',\n",
       " 'Температурный контроль для персонала',\n",
       " 'Теннисный корт',\n",
       " 'Терраса для загара',\n",
       " 'Торговый автомат с закусками/напитками',\n",
       " 'Трансфер',\n",
       " 'Трансфер от аэропорта',\n",
       " 'Трансфер от/до аэропорта',\n",
       " 'Трансфер по окрестностям',\n",
       " 'Трансферные услуги',\n",
       " 'Тренажерный зал',\n",
       " 'Удобства для барбекю',\n",
       " 'Удобства для гостей с ограниченными физическими возможностями',\n",
       " 'Удобства для пляжа',\n",
       " 'Ускоренная регистрация заезда',\n",
       " 'Услуги консьержа',\n",
       " 'Услуги няни и уход за детьми',\n",
       " 'Утюг',\n",
       " 'Факс и ксерокс',\n",
       " 'Фен (по запросу)',\n",
       " 'Фитнес-центр',\n",
       " 'Холодильник',\n",
       " 'Хранение багажа',\n",
       " 'Частный пляж',\n",
       " 'Экскурсионное бюро',\n",
       " 'Яхтинг',\n",
       " 'на английском',\n",
       " 'на испанском',\n",
       " 'на немецком',\n",
       " 'на русском'}"
      ]
     },
     "execution_count": 14,
     "metadata": {},
     "output_type": "execute_result"
    }
   ],
   "source": [
    "amenities = []\n",
    "for i in range(len(data)):\n",
    "    for elem in range(len(data['Amenities'][i])):\n",
    "        lst = data['Amenities'][i].split(',')\n",
    "        for f in range(len(lst)):\n",
    "            amenities.append(lst[f].strip(\"''[] \"))\n",
    "set(amenities)"
   ]
  },
  {
   "cell_type": "markdown",
   "id": "482dd7de",
   "metadata": {},
   "source": [
    "Отберем удобства, которые мы считаем наиболее важными при выборе отеля, а именно:\n",
    "- наличие доступа к интернету\n",
    "\n",
    "- бесплатный трансфер от/до аэропорта\n",
    "\n",
    "- наличие развлечений для детей\n",
    "\n",
    "- наличие бара\n",
    "\n",
    "- наличие бесплатной парковки"
   ]
  },
  {
   "cell_type": "code",
   "execution_count": 15,
   "id": "bc72aea3",
   "metadata": {},
   "outputs": [],
   "source": [
    "import warnings\n",
    "warnings.filterwarnings('ignore')"
   ]
  },
  {
   "cell_type": "markdown",
   "id": "08a042f3",
   "metadata": {},
   "source": [
    "Создаем новые колонки: Wi-Fi (бесплатный Wi-Fi), free_transfer (Бесплатный трансфер от/до аэропорта), child_service (развлечения для детей), bar (наличие бара), parking (наличие парковки)\n",
    "Так как есть пустые колонки, то заполним их NaN'ами, чтобы впоследствии при обработке данных они высвечивались как пропуски \n",
    "Принцип для создания новых 5 признаков простой: \n",
    "- создаем пустую колонку, заполненную нулями;\n",
    "- проходим по датасету по колонке Amenities;\n",
    "- если в списке Amenities i-го объекта есть ключевое слово, то меняем значение новой колонки на 1;\n",
    "- если список Amenities i-го объекта пустой, меняем значение на NaN;\n",
    "- если список Amenities i-го объекта непустой и не содержит ключевого слова, меняем значение на 0 (фактически оставляем изначальным)."
   ]
  },
  {
   "cell_type": "code",
   "execution_count": 16,
   "id": "fbf9641d",
   "metadata": {},
   "outputs": [],
   "source": [
    "data['Wi-Fi'] = 0\n",
    "for i in range (len(data)):\n",
    "    if 'Wi-Fi' in data['Amenities'][i]:\n",
    "        data['Wi-Fi'][i] = 1\n",
    "    elif data['Amenities'][i] == '[]':\n",
    "        data['Wi-Fi'][i] = 'NaN'\n",
    "    else:\n",
    "        data['Wi-Fi'][i] = 0"
   ]
  },
  {
   "cell_type": "code",
   "execution_count": 17,
   "id": "a9668469",
   "metadata": {},
   "outputs": [],
   "source": [
    "data['free_transfer'] = 0\n",
    "for i in range (len(data)):\n",
    "    if 'Бесплатный трансфер от/до аэропорта' in data['Amenities'][i]:\n",
    "        data['free_transfer'][i] = 1\n",
    "    elif data['Amenities'][i] == '[]':\n",
    "        data['free_transfer'][i] = 'NaN'\n",
    "    else:\n",
    "        data['free_transfer'][i] = 0"
   ]
  },
  {
   "cell_type": "code",
   "execution_count": 18,
   "id": "ce348e47",
   "metadata": {},
   "outputs": [],
   "source": [
    "data['child_service'] = 0\n",
    "for i in range (len(data)):\n",
    "    if 'Детск' in data['Amenities'][i]:\n",
    "        data['child_service'][i] = 1\n",
    "    elif data['Amenities'][i] == '[]':\n",
    "        data['child_service'][i] = 'NaN'\n",
    "    else:\n",
    "        data['child_service'][i] = 0"
   ]
  },
  {
   "cell_type": "code",
   "execution_count": 19,
   "id": "f0aa8de6",
   "metadata": {},
   "outputs": [],
   "source": [
    "data['bar'] = 0\n",
    "for i in range (len(data)):\n",
    "    if 'Бар' in data['Amenities'][i]:\n",
    "        data['bar'][i] = 1\n",
    "    elif data['Amenities'][i] == '[]':\n",
    "        data['bar'][i] = 'NaN'\n",
    "    else:\n",
    "        data['bar'][i] = 0"
   ]
  },
  {
   "cell_type": "code",
   "execution_count": 20,
   "id": "02562f39",
   "metadata": {},
   "outputs": [],
   "source": [
    "data['parking'] = 0\n",
    "for i in range (len(data)):\n",
    "    if 'Парковка отсутствует' in data['Amenities'][i]:\n",
    "        data['parking'][i] = 0\n",
    "    elif data['Amenities'][i] == '[]':\n",
    "        data['parking'][i] = 'NaN'\n",
    "    elif 'Парковка' in data['Amenities'][i]:\n",
    "        data['parking'][i] = 1\n",
    "    else:\n",
    "        data['parking'][i] = 0"
   ]
  },
  {
   "cell_type": "markdown",
   "id": "b0a54fe3",
   "metadata": {},
   "source": [
    "### Преобразуем колонку Name\n",
    "Из названия объекта размещения можно узнать его тип - отель, хостел, гостевой дом, апартаменты. Данный признак, как нам кажется, является важным и может повлиять на выбор места проживания, поэтому создадим новый признак type_hotel "
   ]
  },
  {
   "cell_type": "markdown",
   "id": "f5c8bfe1",
   "metadata": {},
   "source": [
    "После пристального взора на наш датасет, мы обнаружили, что в основном типы объектов проживания содержат следующие ключевые слова:"
   ]
  },
  {
   "cell_type": "code",
   "execution_count": 21,
   "id": "f5b34691",
   "metadata": {},
   "outputs": [],
   "source": [
    "types = [\"Krasnaya Polyana\", \"Гостевой дом\",\"Hotel\", \"Resort\", \"Отель\", \"Хостел\", \"Апарт-отель\", \"Apart-hotel\", \"Апартамент\", \"Apartments\", \"Пансион\", \"Санаторий\", \\\n",
    "         \"ЖК\", \"Гостиница\", \"Radisson\", \"Рэдиссон\", \\\n",
    "        \"Hostel\", \"Комплекс\", \"База отдыха\"] "
   ]
  },
  {
   "cell_type": "markdown",
   "id": "252fb957",
   "metadata": {},
   "source": [
    "Сначала достанем их из колонки Name и запишем в новую колонку type_hotel:"
   ]
  },
  {
   "cell_type": "code",
   "execution_count": 22,
   "id": "ef018cb8",
   "metadata": {},
   "outputs": [],
   "source": [
    "data['type_hotel'] = 0\n",
    "for i in range(len(data)):\n",
    "    type_hot = 'NaN'\n",
    "    for elem in range(len(types)):\n",
    "        if types[elem].lower() in data['Name'][i].lower():\n",
    "            type_hot = types[elem]\n",
    "    if type_hot == 'NaN':\n",
    "        if 'Apart'.lower() in data['Name'][i].lower() or 'Апарт'.lower() in data['Name'][i].lower():\n",
    "            type_hot = types[elem]\n",
    "    data['type_hotel'][i] = type_hot"
   ]
  },
  {
   "cell_type": "code",
   "execution_count": 23,
   "id": "75d09e80",
   "metadata": {},
   "outputs": [
    {
     "data": {
      "text/html": [
       "<div>\n",
       "<style scoped>\n",
       "    .dataframe tbody tr th:only-of-type {\n",
       "        vertical-align: middle;\n",
       "    }\n",
       "\n",
       "    .dataframe tbody tr th {\n",
       "        vertical-align: top;\n",
       "    }\n",
       "\n",
       "    .dataframe thead th {\n",
       "        text-align: right;\n",
       "    }\n",
       "</style>\n",
       "<table border=\"1\" class=\"dataframe\">\n",
       "  <thead>\n",
       "    <tr style=\"text-align: right;\">\n",
       "      <th></th>\n",
       "      <th>Name</th>\n",
       "      <th>User_rating</th>\n",
       "      <th>Reviews_count</th>\n",
       "      <th>Star_rating</th>\n",
       "      <th>Distance_from_center</th>\n",
       "      <th>Amenities</th>\n",
       "      <th>Price</th>\n",
       "      <th>Wi-Fi</th>\n",
       "      <th>free_transfer</th>\n",
       "      <th>child_service</th>\n",
       "      <th>bar</th>\n",
       "      <th>parking</th>\n",
       "      <th>type_hotel</th>\n",
       "    </tr>\n",
       "  </thead>\n",
       "  <tbody>\n",
       "    <tr>\n",
       "      <th>0</th>\n",
       "      <td>Отель Alcont</td>\n",
       "      <td>8.2</td>\n",
       "      <td>107.0</td>\n",
       "      <td>4.0</td>\n",
       "      <td>317</td>\n",
       "      <td>['Сауна', 'Конференц-зал', 'Магазины', 'Лифт',...</td>\n",
       "      <td>2992.0</td>\n",
       "      <td>1</td>\n",
       "      <td>0</td>\n",
       "      <td>0</td>\n",
       "      <td>1</td>\n",
       "      <td>1</td>\n",
       "      <td>Отель</td>\n",
       "    </tr>\n",
       "    <tr>\n",
       "      <th>1</th>\n",
       "      <td>Отель Антика</td>\n",
       "      <td>8.8</td>\n",
       "      <td>99.0</td>\n",
       "      <td>3.0</td>\n",
       "      <td>3338</td>\n",
       "      <td>['Факс и ксерокс', 'Кондиционер', 'Удобства дл...</td>\n",
       "      <td>4213.0</td>\n",
       "      <td>1</td>\n",
       "      <td>0</td>\n",
       "      <td>0</td>\n",
       "      <td>0</td>\n",
       "      <td>1</td>\n",
       "      <td>Отель</td>\n",
       "    </tr>\n",
       "    <tr>\n",
       "      <th>2</th>\n",
       "      <td>Апартаменты Горы</td>\n",
       "      <td>9.0</td>\n",
       "      <td>96.0</td>\n",
       "      <td>No stars</td>\n",
       "      <td>1145</td>\n",
       "      <td>[]</td>\n",
       "      <td>3214.0</td>\n",
       "      <td>NaN</td>\n",
       "      <td>NaN</td>\n",
       "      <td>NaN</td>\n",
       "      <td>NaN</td>\n",
       "      <td>NaN</td>\n",
       "      <td>Апартамент</td>\n",
       "    </tr>\n",
       "    <tr>\n",
       "      <th>3</th>\n",
       "      <td>Апарт-отель &amp;quot;Метрополь&amp;quot;</td>\n",
       "      <td>9.0</td>\n",
       "      <td>116.0</td>\n",
       "      <td>4.0</td>\n",
       "      <td>1875</td>\n",
       "      <td>[]</td>\n",
       "      <td>10299.0</td>\n",
       "      <td>NaN</td>\n",
       "      <td>NaN</td>\n",
       "      <td>NaN</td>\n",
       "      <td>NaN</td>\n",
       "      <td>NaN</td>\n",
       "      <td>Апарт-отель</td>\n",
       "    </tr>\n",
       "    <tr>\n",
       "      <th>4</th>\n",
       "      <td>Гостевой дом Black sea guest house</td>\n",
       "      <td>9.0</td>\n",
       "      <td>103.0</td>\n",
       "      <td>No stars</td>\n",
       "      <td>24457</td>\n",
       "      <td>['Сауна', 'Факс и ксерокс', 'Кондиционер', 'Те...</td>\n",
       "      <td>6950.0</td>\n",
       "      <td>1</td>\n",
       "      <td>0</td>\n",
       "      <td>0</td>\n",
       "      <td>1</td>\n",
       "      <td>1</td>\n",
       "      <td>Гостевой дом</td>\n",
       "    </tr>\n",
       "  </tbody>\n",
       "</table>\n",
       "</div>"
      ],
      "text/plain": [
       "                                 Name  User_rating  Reviews_count Star_rating  \\\n",
       "0                        Отель Alcont          8.2          107.0         4.0   \n",
       "1                        Отель Антика          8.8           99.0         3.0   \n",
       "2                    Апартаменты Горы          9.0           96.0    No stars   \n",
       "3   Апарт-отель &quot;Метрополь&quot;          9.0          116.0         4.0   \n",
       "4  Гостевой дом Black sea guest house          9.0          103.0    No stars   \n",
       "\n",
       "   Distance_from_center                                          Amenities  \\\n",
       "0                   317  ['Сауна', 'Конференц-зал', 'Магазины', 'Лифт',...   \n",
       "1                  3338  ['Факс и ксерокс', 'Кондиционер', 'Удобства дл...   \n",
       "2                  1145                                                 []   \n",
       "3                  1875                                                 []   \n",
       "4                 24457  ['Сауна', 'Факс и ксерокс', 'Кондиционер', 'Те...   \n",
       "\n",
       "     Price Wi-Fi free_transfer child_service  bar parking    type_hotel  \n",
       "0   2992.0     1             0             0    1       1         Отель  \n",
       "1   4213.0     1             0             0    0       1         Отель  \n",
       "2   3214.0   NaN           NaN           NaN  NaN     NaN    Апартамент  \n",
       "3  10299.0   NaN           NaN           NaN  NaN     NaN   Апарт-отель  \n",
       "4   6950.0     1             0             0    1       1  Гостевой дом  "
      ]
     },
     "execution_count": 23,
     "metadata": {},
     "output_type": "execute_result"
    }
   ],
   "source": [
    "data.head(5)"
   ]
  },
  {
   "cell_type": "markdown",
   "id": "98830e7d",
   "metadata": {},
   "source": [
    "Теперь приведем получившиеся значения к более узкой классификации, для этого разобьем все места проживания на 5 типов:"
   ]
  },
  {
   "cell_type": "code",
   "execution_count": 24,
   "id": "d367cef0",
   "metadata": {},
   "outputs": [],
   "source": [
    "hotels = ['Отель', 'Hotel', 'Гостиница', 'Комплекс', 'Radisson', 'Рэдиссон'] #отели\n",
    "hostels = ['Хостел', 'Hostel'] #хостелы\n",
    "apartments = ['Апартамент', 'Апарт-отель', 'ЖК', 'Apartments',  'Apart-hotel'] #апартаменты\n",
    "guest_house = ['Гостевой дом'] # гостевые дома\n",
    "resort = ['Resort', 'Krasnaya Polyana', 'Санаторий', \"База отдыха\", \"Пансион\"] #курорты, базы отдыха"
   ]
  },
  {
   "cell_type": "code",
   "execution_count": 25,
   "id": "eabaf116",
   "metadata": {},
   "outputs": [],
   "source": [
    "for i in range (len(data)):\n",
    "    if data['type_hotel'][i] in hotels:\n",
    "        data['type_hotel'][i] = \"Отель\"\n",
    "    elif data['type_hotel'][i] in hostels:\n",
    "        data['type_hotel'][i] = \"Хостел\"\n",
    "    elif data['type_hotel'][i] in apartments:\n",
    "        data['type_hotel'][i] = \"Апартаменты\"\n",
    "    elif data['type_hotel'][i] in guest_house:\n",
    "        data['type_hotel'][i] = 'Гостевой дом'\n",
    "    elif data['type_hotel'][i] in resort:\n",
    "        data['type_hotel'][i] = 'Курорт'"
   ]
  },
  {
   "cell_type": "markdown",
   "id": "1693bf6b",
   "metadata": {},
   "source": [
    "После того как мы сделали все, что хотели с колонкой имени (Name) и удобств (Amenities), а именно создали по ним новые признаки, можем со спокойной душой удалить Name и Amenities"
   ]
  },
  {
   "cell_type": "code",
   "execution_count": 26,
   "id": "6cd3df9e",
   "metadata": {},
   "outputs": [],
   "source": [
    "data.drop(columns = ['Amenities', 'Name'], inplace = True)"
   ]
  },
  {
   "cell_type": "code",
   "execution_count": 27,
   "id": "0c76743b",
   "metadata": {},
   "outputs": [
    {
     "data": {
      "text/html": [
       "<div>\n",
       "<style scoped>\n",
       "    .dataframe tbody tr th:only-of-type {\n",
       "        vertical-align: middle;\n",
       "    }\n",
       "\n",
       "    .dataframe tbody tr th {\n",
       "        vertical-align: top;\n",
       "    }\n",
       "\n",
       "    .dataframe thead th {\n",
       "        text-align: right;\n",
       "    }\n",
       "</style>\n",
       "<table border=\"1\" class=\"dataframe\">\n",
       "  <thead>\n",
       "    <tr style=\"text-align: right;\">\n",
       "      <th></th>\n",
       "      <th>User_rating</th>\n",
       "      <th>Reviews_count</th>\n",
       "      <th>Star_rating</th>\n",
       "      <th>Distance_from_center</th>\n",
       "      <th>Price</th>\n",
       "      <th>Wi-Fi</th>\n",
       "      <th>free_transfer</th>\n",
       "      <th>child_service</th>\n",
       "      <th>bar</th>\n",
       "      <th>parking</th>\n",
       "      <th>type_hotel</th>\n",
       "    </tr>\n",
       "  </thead>\n",
       "  <tbody>\n",
       "    <tr>\n",
       "      <th>0</th>\n",
       "      <td>8.2</td>\n",
       "      <td>107.0</td>\n",
       "      <td>4.0</td>\n",
       "      <td>317</td>\n",
       "      <td>2992.0</td>\n",
       "      <td>1</td>\n",
       "      <td>0</td>\n",
       "      <td>0</td>\n",
       "      <td>1</td>\n",
       "      <td>1</td>\n",
       "      <td>Отель</td>\n",
       "    </tr>\n",
       "    <tr>\n",
       "      <th>1</th>\n",
       "      <td>8.8</td>\n",
       "      <td>99.0</td>\n",
       "      <td>3.0</td>\n",
       "      <td>3338</td>\n",
       "      <td>4213.0</td>\n",
       "      <td>1</td>\n",
       "      <td>0</td>\n",
       "      <td>0</td>\n",
       "      <td>0</td>\n",
       "      <td>1</td>\n",
       "      <td>Отель</td>\n",
       "    </tr>\n",
       "    <tr>\n",
       "      <th>2</th>\n",
       "      <td>9.0</td>\n",
       "      <td>96.0</td>\n",
       "      <td>No stars</td>\n",
       "      <td>1145</td>\n",
       "      <td>3214.0</td>\n",
       "      <td>NaN</td>\n",
       "      <td>NaN</td>\n",
       "      <td>NaN</td>\n",
       "      <td>NaN</td>\n",
       "      <td>NaN</td>\n",
       "      <td>Апартаменты</td>\n",
       "    </tr>\n",
       "    <tr>\n",
       "      <th>3</th>\n",
       "      <td>9.0</td>\n",
       "      <td>116.0</td>\n",
       "      <td>4.0</td>\n",
       "      <td>1875</td>\n",
       "      <td>10299.0</td>\n",
       "      <td>NaN</td>\n",
       "      <td>NaN</td>\n",
       "      <td>NaN</td>\n",
       "      <td>NaN</td>\n",
       "      <td>NaN</td>\n",
       "      <td>Апартаменты</td>\n",
       "    </tr>\n",
       "    <tr>\n",
       "      <th>4</th>\n",
       "      <td>9.0</td>\n",
       "      <td>103.0</td>\n",
       "      <td>No stars</td>\n",
       "      <td>24457</td>\n",
       "      <td>6950.0</td>\n",
       "      <td>1</td>\n",
       "      <td>0</td>\n",
       "      <td>0</td>\n",
       "      <td>1</td>\n",
       "      <td>1</td>\n",
       "      <td>Гостевой дом</td>\n",
       "    </tr>\n",
       "  </tbody>\n",
       "</table>\n",
       "</div>"
      ],
      "text/plain": [
       "   User_rating  Reviews_count Star_rating  Distance_from_center    Price  \\\n",
       "0          8.2          107.0         4.0                   317   2992.0   \n",
       "1          8.8           99.0         3.0                  3338   4213.0   \n",
       "2          9.0           96.0    No stars                  1145   3214.0   \n",
       "3          9.0          116.0         4.0                  1875  10299.0   \n",
       "4          9.0          103.0    No stars                 24457   6950.0   \n",
       "\n",
       "  Wi-Fi free_transfer child_service  bar parking    type_hotel  \n",
       "0     1             0             0    1       1         Отель  \n",
       "1     1             0             0    0       1         Отель  \n",
       "2   NaN           NaN           NaN  NaN     NaN   Апартаменты  \n",
       "3   NaN           NaN           NaN  NaN     NaN   Апартаменты  \n",
       "4     1             0             0    1       1  Гостевой дом  "
      ]
     },
     "execution_count": 27,
     "metadata": {},
     "output_type": "execute_result"
    }
   ],
   "source": [
    "data.head()"
   ]
  },
  {
   "cell_type": "markdown",
   "id": "cc25f9af",
   "metadata": {},
   "source": [
    "### Преобразуем колонку Star_rating"
   ]
  },
  {
   "cell_type": "code",
   "execution_count": 28,
   "id": "749a03ff",
   "metadata": {},
   "outputs": [
    {
     "data": {
      "text/plain": [
       "No stars    991\n",
       "3.0         153\n",
       "4.0          83\n",
       "2.0          52\n",
       "5.0          16\n",
       "1.0          11\n",
       "Name: Star_rating, dtype: int64"
      ]
     },
     "execution_count": 28,
     "metadata": {},
     "output_type": "execute_result"
    }
   ],
   "source": [
    "data.Star_rating.value_counts()"
   ]
  },
  {
   "cell_type": "markdown",
   "id": "18da9c1e",
   "metadata": {},
   "source": [
    "Как мы видим, большинство объектов проживания не имеют звезд (возможно, потому что они относятся к апартаментам, гостевым домам, у которых нет звездного рейтинга), заменим значение No stars на 0"
   ]
  },
  {
   "cell_type": "code",
   "execution_count": 29,
   "id": "1b7a2d6e",
   "metadata": {},
   "outputs": [],
   "source": [
    "data.Star_rating.replace('No stars', 0, inplace = True)"
   ]
  },
  {
   "cell_type": "markdown",
   "id": "1609d834",
   "metadata": {},
   "source": [
    "После добавления новых признаков, снова сохраним наш датасет, на очереди обработка и заполнение пропусков\n",
    "Сохраним датасет снова, чтобы не потерять уже сделанное"
   ]
  },
  {
   "cell_type": "code",
   "execution_count": 43,
   "id": "827cc692",
   "metadata": {},
   "outputs": [],
   "source": [
    "data.to_csv('New.csv', index = False)"
   ]
  },
  {
   "cell_type": "markdown",
   "id": "cc072acf",
   "metadata": {},
   "source": [
    " <a name=\"aod\"></a>\n",
    "## Анализ и обработка данных"
   ]
  },
  {
   "cell_type": "code",
   "execution_count": 30,
   "id": "a9f105a3",
   "metadata": {},
   "outputs": [
    {
     "data": {
      "text/html": [
       "<div>\n",
       "<style scoped>\n",
       "    .dataframe tbody tr th:only-of-type {\n",
       "        vertical-align: middle;\n",
       "    }\n",
       "\n",
       "    .dataframe tbody tr th {\n",
       "        vertical-align: top;\n",
       "    }\n",
       "\n",
       "    .dataframe thead th {\n",
       "        text-align: right;\n",
       "    }\n",
       "</style>\n",
       "<table border=\"1\" class=\"dataframe\">\n",
       "  <thead>\n",
       "    <tr style=\"text-align: right;\">\n",
       "      <th></th>\n",
       "      <th>User_rating</th>\n",
       "      <th>Reviews_count</th>\n",
       "      <th>Star_rating</th>\n",
       "      <th>Distance_from_center</th>\n",
       "      <th>Price</th>\n",
       "      <th>Wi-Fi</th>\n",
       "      <th>free_transfer</th>\n",
       "      <th>child_service</th>\n",
       "      <th>bar</th>\n",
       "      <th>parking</th>\n",
       "      <th>type_hotel</th>\n",
       "    </tr>\n",
       "  </thead>\n",
       "  <tbody>\n",
       "    <tr>\n",
       "      <th>0</th>\n",
       "      <td>8.2</td>\n",
       "      <td>107.0</td>\n",
       "      <td>4.0</td>\n",
       "      <td>317</td>\n",
       "      <td>2992.0</td>\n",
       "      <td>1.0</td>\n",
       "      <td>0.0</td>\n",
       "      <td>0.0</td>\n",
       "      <td>1.0</td>\n",
       "      <td>1.0</td>\n",
       "      <td>Отель</td>\n",
       "    </tr>\n",
       "    <tr>\n",
       "      <th>1</th>\n",
       "      <td>8.8</td>\n",
       "      <td>99.0</td>\n",
       "      <td>3.0</td>\n",
       "      <td>3338</td>\n",
       "      <td>4213.0</td>\n",
       "      <td>1.0</td>\n",
       "      <td>0.0</td>\n",
       "      <td>0.0</td>\n",
       "      <td>0.0</td>\n",
       "      <td>1.0</td>\n",
       "      <td>Отель</td>\n",
       "    </tr>\n",
       "    <tr>\n",
       "      <th>2</th>\n",
       "      <td>9.0</td>\n",
       "      <td>96.0</td>\n",
       "      <td>0.0</td>\n",
       "      <td>1145</td>\n",
       "      <td>3214.0</td>\n",
       "      <td>NaN</td>\n",
       "      <td>NaN</td>\n",
       "      <td>NaN</td>\n",
       "      <td>NaN</td>\n",
       "      <td>NaN</td>\n",
       "      <td>Апартаменты</td>\n",
       "    </tr>\n",
       "    <tr>\n",
       "      <th>3</th>\n",
       "      <td>9.0</td>\n",
       "      <td>116.0</td>\n",
       "      <td>4.0</td>\n",
       "      <td>1875</td>\n",
       "      <td>10299.0</td>\n",
       "      <td>NaN</td>\n",
       "      <td>NaN</td>\n",
       "      <td>NaN</td>\n",
       "      <td>NaN</td>\n",
       "      <td>NaN</td>\n",
       "      <td>Апартаменты</td>\n",
       "    </tr>\n",
       "    <tr>\n",
       "      <th>4</th>\n",
       "      <td>9.0</td>\n",
       "      <td>103.0</td>\n",
       "      <td>0.0</td>\n",
       "      <td>24457</td>\n",
       "      <td>6950.0</td>\n",
       "      <td>1.0</td>\n",
       "      <td>0.0</td>\n",
       "      <td>0.0</td>\n",
       "      <td>1.0</td>\n",
       "      <td>1.0</td>\n",
       "      <td>Гостевой дом</td>\n",
       "    </tr>\n",
       "  </tbody>\n",
       "</table>\n",
       "</div>"
      ],
      "text/plain": [
       "   User_rating  Reviews_count  Star_rating  Distance_from_center    Price  \\\n",
       "0          8.2          107.0          4.0                   317   2992.0   \n",
       "1          8.8           99.0          3.0                  3338   4213.0   \n",
       "2          9.0           96.0          0.0                  1145   3214.0   \n",
       "3          9.0          116.0          4.0                  1875  10299.0   \n",
       "4          9.0          103.0          0.0                 24457   6950.0   \n",
       "\n",
       "   Wi-Fi  free_transfer  child_service  bar  parking    type_hotel  \n",
       "0    1.0            0.0            0.0  1.0      1.0         Отель  \n",
       "1    1.0            0.0            0.0  0.0      1.0         Отель  \n",
       "2    NaN            NaN            NaN  NaN      NaN   Апартаменты  \n",
       "3    NaN            NaN            NaN  NaN      NaN   Апартаменты  \n",
       "4    1.0            0.0            0.0  1.0      1.0  Гостевой дом  "
      ]
     },
     "execution_count": 30,
     "metadata": {},
     "output_type": "execute_result"
    }
   ],
   "source": [
    "dt = pd.read_csv('New.csv')\n",
    "dt.head()"
   ]
  },
  {
   "cell_type": "code",
   "execution_count": 31,
   "id": "a59ea711",
   "metadata": {},
   "outputs": [
    {
     "data": {
      "text/plain": [
       "(1337, 11)"
      ]
     },
     "execution_count": 31,
     "metadata": {},
     "output_type": "execute_result"
    }
   ],
   "source": [
    "dt.shape"
   ]
  },
  {
   "cell_type": "markdown",
   "id": "45177f1e",
   "metadata": {},
   "source": [
    "Посмотрим на пропуски:"
   ]
  },
  {
   "cell_type": "code",
   "execution_count": 32,
   "id": "1b1f4684",
   "metadata": {},
   "outputs": [
    {
     "data": {
      "text/plain": [
       "User_rating              31\n",
       "Reviews_count            31\n",
       "Star_rating              31\n",
       "Distance_from_center      0\n",
       "Price                    31\n",
       "Wi-Fi                   862\n",
       "free_transfer           862\n",
       "child_service           862\n",
       "bar                     862\n",
       "parking                 862\n",
       "type_hotel               31\n",
       "dtype: int64"
      ]
     },
     "execution_count": 32,
     "metadata": {},
     "output_type": "execute_result"
    }
   ],
   "source": [
    "dt.isna().sum()"
   ]
  },
  {
   "cell_type": "markdown",
   "id": "4eea92ab",
   "metadata": {},
   "source": [
    "Так как пропусков получилось много (особенно в колонках с дополнительными услугами, но важные, то попытаемся как-то предобработать их)\n",
    "\n",
    "Для начала отберем только те строки, где количество отзывов больше 10"
   ]
  },
  {
   "cell_type": "code",
   "execution_count": 33,
   "id": "108c94dd",
   "metadata": {},
   "outputs": [
    {
     "data": {
      "text/plain": [
       "(610, 11)"
      ]
     },
     "execution_count": 33,
     "metadata": {},
     "output_type": "execute_result"
    }
   ],
   "source": [
    "dt = dt[dt.Reviews_count > 10]\n",
    "dt.shape"
   ]
  },
  {
   "cell_type": "code",
   "execution_count": 34,
   "id": "86686ea0",
   "metadata": {},
   "outputs": [
    {
     "data": {
      "text/plain": [
       "User_rating               0\n",
       "Reviews_count             0\n",
       "Star_rating               0\n",
       "Distance_from_center      0\n",
       "Price                     0\n",
       "Wi-Fi                   300\n",
       "free_transfer           300\n",
       "child_service           300\n",
       "bar                     300\n",
       "parking                 300\n",
       "type_hotel               17\n",
       "dtype: int64"
      ]
     },
     "execution_count": 34,
     "metadata": {},
     "output_type": "execute_result"
    }
   ],
   "source": [
    "dt.isna().sum()"
   ]
  },
  {
   "cell_type": "markdown",
   "id": "2eb98094",
   "metadata": {},
   "source": [
    "Как мы видим, новый датасет содержит 610 строк (убавилось, к сожалению, целых 727 строк), но при этом наша выборка все еще больше 500 объектов и к тому же количество пропусков в колонках с удобствами (Wi-Fi, free_transfer, child_service, bar, parking, type_hotel) сократилось на 562, то есть 77% удаленных строчек было с пропусками\n",
    "\n",
    "Пропусков все еще много, но будем работать с ними"
   ]
  },
  {
   "cell_type": "markdown",
   "id": "367436c9",
   "metadata": {},
   "source": [
    "Посмотрим на распределение признаков с 300 пропусками:"
   ]
  },
  {
   "cell_type": "code",
   "execution_count": 35,
   "id": "be9aa5e3",
   "metadata": {},
   "outputs": [
    {
     "name": "stdout",
     "output_type": "stream",
     "text": [
      "1.0    294\n",
      "0.0     16\n",
      "Name: Wi-Fi, dtype: int64\n",
      "0.0    305\n",
      "1.0      5\n",
      "Name: free_transfer, dtype: int64\n",
      "0.0    261\n",
      "1.0     49\n",
      "Name: child_service, dtype: int64\n",
      "0.0    166\n",
      "1.0    144\n",
      "Name: bar, dtype: int64\n",
      "1.0    219\n",
      "0.0     91\n",
      "Name: parking, dtype: int64\n"
     ]
    }
   ],
   "source": [
    "columns = ['Wi-Fi', 'free_transfer', 'child_service', 'bar', 'parking']\n",
    "for i in range (5):\n",
    "    print(dt[columns[i]].value_counts())"
   ]
  },
  {
   "cell_type": "markdown",
   "id": "1f497ae4",
   "metadata": {},
   "source": [
    "Заполним пропущенные значения модами, так как данная переменная - индикатор, где 1 - наличие услуги, 0 - ее отсутствие, поэтому заменять пропуски медианой или средним значением нам показалось нецелесообразно:"
   ]
  },
  {
   "cell_type": "code",
   "execution_count": 36,
   "id": "21981858",
   "metadata": {},
   "outputs": [],
   "source": [
    "def fillna_mode(data, column):\n",
    "    mode = data[column].mode()[0]\n",
    "    data[column].fillna(mode, inplace = True)\n",
    "    return data[column]"
   ]
  },
  {
   "cell_type": "code",
   "execution_count": 37,
   "id": "b55db6d4",
   "metadata": {},
   "outputs": [],
   "source": [
    "columns = ['Wi-Fi', 'free_transfer', 'child_service', 'bar', 'parking']\n",
    "for i in range (5):\n",
    "    fillna_mode(data = dt, column = columns[i])"
   ]
  },
  {
   "cell_type": "code",
   "execution_count": 38,
   "id": "18105bea",
   "metadata": {},
   "outputs": [
    {
     "data": {
      "text/plain": [
       "User_rating              0\n",
       "Reviews_count            0\n",
       "Star_rating              0\n",
       "Distance_from_center     0\n",
       "Price                    0\n",
       "Wi-Fi                    0\n",
       "free_transfer            0\n",
       "child_service            0\n",
       "bar                      0\n",
       "parking                  0\n",
       "type_hotel              17\n",
       "dtype: int64"
      ]
     },
     "execution_count": 38,
     "metadata": {},
     "output_type": "execute_result"
    }
   ],
   "source": [
    "dt.isna().sum()"
   ]
  },
  {
   "cell_type": "code",
   "execution_count": 39,
   "id": "07596dfb",
   "metadata": {},
   "outputs": [
    {
     "data": {
      "text/html": [
       "<div>\n",
       "<style scoped>\n",
       "    .dataframe tbody tr th:only-of-type {\n",
       "        vertical-align: middle;\n",
       "    }\n",
       "\n",
       "    .dataframe tbody tr th {\n",
       "        vertical-align: top;\n",
       "    }\n",
       "\n",
       "    .dataframe thead th {\n",
       "        text-align: right;\n",
       "    }\n",
       "</style>\n",
       "<table border=\"1\" class=\"dataframe\">\n",
       "  <thead>\n",
       "    <tr style=\"text-align: right;\">\n",
       "      <th></th>\n",
       "      <th>User_rating</th>\n",
       "      <th>Reviews_count</th>\n",
       "      <th>Star_rating</th>\n",
       "      <th>Distance_from_center</th>\n",
       "      <th>Price</th>\n",
       "      <th>Wi-Fi</th>\n",
       "      <th>free_transfer</th>\n",
       "      <th>child_service</th>\n",
       "      <th>bar</th>\n",
       "      <th>parking</th>\n",
       "      <th>type_hotel</th>\n",
       "    </tr>\n",
       "  </thead>\n",
       "  <tbody>\n",
       "    <tr>\n",
       "      <th>852</th>\n",
       "      <td>9712.0</td>\n",
       "      <td>29.0</td>\n",
       "      <td>3.0</td>\n",
       "      <td>1807</td>\n",
       "      <td>9712.0</td>\n",
       "      <td>1.0</td>\n",
       "      <td>0.0</td>\n",
       "      <td>0.0</td>\n",
       "      <td>0.0</td>\n",
       "      <td>1.0</td>\n",
       "      <td>Отель</td>\n",
       "    </tr>\n",
       "  </tbody>\n",
       "</table>\n",
       "</div>"
      ],
      "text/plain": [
       "     User_rating  Reviews_count  Star_rating  Distance_from_center   Price  \\\n",
       "852       9712.0           29.0          3.0                  1807  9712.0   \n",
       "\n",
       "     Wi-Fi  free_transfer  child_service  bar  parking type_hotel  \n",
       "852    1.0            0.0            0.0  0.0      1.0      Отель  "
      ]
     },
     "execution_count": 39,
     "metadata": {},
     "output_type": "execute_result"
    }
   ],
   "source": [
    "dt[dt.User_rating > 10]"
   ]
  },
  {
   "cell_type": "markdown",
   "id": "8545c670",
   "metadata": {},
   "source": [
    "Осталось 17 пропусков в колонках с типами отелей, удалим такие строчки, также удалим строчки, в которых пользовательский рейтинг превышает 10 (в датасете обнаружилось одно аномальное значение)"
   ]
  },
  {
   "cell_type": "code",
   "execution_count": 40,
   "id": "284627a5",
   "metadata": {},
   "outputs": [
    {
     "data": {
      "text/html": [
       "<div>\n",
       "<style scoped>\n",
       "    .dataframe tbody tr th:only-of-type {\n",
       "        vertical-align: middle;\n",
       "    }\n",
       "\n",
       "    .dataframe tbody tr th {\n",
       "        vertical-align: top;\n",
       "    }\n",
       "\n",
       "    .dataframe thead th {\n",
       "        text-align: right;\n",
       "    }\n",
       "</style>\n",
       "<table border=\"1\" class=\"dataframe\">\n",
       "  <thead>\n",
       "    <tr style=\"text-align: right;\">\n",
       "      <th></th>\n",
       "      <th>User_rating</th>\n",
       "      <th>Reviews_count</th>\n",
       "      <th>Star_rating</th>\n",
       "      <th>Distance_from_center</th>\n",
       "      <th>Price</th>\n",
       "      <th>Wi-Fi</th>\n",
       "      <th>free_transfer</th>\n",
       "      <th>child_service</th>\n",
       "      <th>bar</th>\n",
       "      <th>parking</th>\n",
       "      <th>type_hotel</th>\n",
       "    </tr>\n",
       "  </thead>\n",
       "  <tbody>\n",
       "    <tr>\n",
       "      <th>0</th>\n",
       "      <td>8.2</td>\n",
       "      <td>107.0</td>\n",
       "      <td>4.0</td>\n",
       "      <td>317</td>\n",
       "      <td>2992.0</td>\n",
       "      <td>1.0</td>\n",
       "      <td>0.0</td>\n",
       "      <td>0.0</td>\n",
       "      <td>1.0</td>\n",
       "      <td>1.0</td>\n",
       "      <td>Отель</td>\n",
       "    </tr>\n",
       "    <tr>\n",
       "      <th>1</th>\n",
       "      <td>8.8</td>\n",
       "      <td>99.0</td>\n",
       "      <td>3.0</td>\n",
       "      <td>3338</td>\n",
       "      <td>4213.0</td>\n",
       "      <td>1.0</td>\n",
       "      <td>0.0</td>\n",
       "      <td>0.0</td>\n",
       "      <td>0.0</td>\n",
       "      <td>1.0</td>\n",
       "      <td>Отель</td>\n",
       "    </tr>\n",
       "    <tr>\n",
       "      <th>2</th>\n",
       "      <td>9.0</td>\n",
       "      <td>96.0</td>\n",
       "      <td>0.0</td>\n",
       "      <td>1145</td>\n",
       "      <td>3214.0</td>\n",
       "      <td>1.0</td>\n",
       "      <td>0.0</td>\n",
       "      <td>0.0</td>\n",
       "      <td>0.0</td>\n",
       "      <td>1.0</td>\n",
       "      <td>Апартаменты</td>\n",
       "    </tr>\n",
       "    <tr>\n",
       "      <th>3</th>\n",
       "      <td>9.0</td>\n",
       "      <td>116.0</td>\n",
       "      <td>4.0</td>\n",
       "      <td>1875</td>\n",
       "      <td>10299.0</td>\n",
       "      <td>1.0</td>\n",
       "      <td>0.0</td>\n",
       "      <td>0.0</td>\n",
       "      <td>0.0</td>\n",
       "      <td>1.0</td>\n",
       "      <td>Апартаменты</td>\n",
       "    </tr>\n",
       "    <tr>\n",
       "      <th>4</th>\n",
       "      <td>9.0</td>\n",
       "      <td>103.0</td>\n",
       "      <td>0.0</td>\n",
       "      <td>24457</td>\n",
       "      <td>6950.0</td>\n",
       "      <td>1.0</td>\n",
       "      <td>0.0</td>\n",
       "      <td>0.0</td>\n",
       "      <td>1.0</td>\n",
       "      <td>1.0</td>\n",
       "      <td>Гостевой дом</td>\n",
       "    </tr>\n",
       "  </tbody>\n",
       "</table>\n",
       "</div>"
      ],
      "text/plain": [
       "   User_rating  Reviews_count  Star_rating  Distance_from_center    Price  \\\n",
       "0          8.2          107.0          4.0                   317   2992.0   \n",
       "1          8.8           99.0          3.0                  3338   4213.0   \n",
       "2          9.0           96.0          0.0                  1145   3214.0   \n",
       "3          9.0          116.0          4.0                  1875  10299.0   \n",
       "4          9.0          103.0          0.0                 24457   6950.0   \n",
       "\n",
       "   Wi-Fi  free_transfer  child_service  bar  parking    type_hotel  \n",
       "0    1.0            0.0            0.0  1.0      1.0         Отель  \n",
       "1    1.0            0.0            0.0  0.0      1.0         Отель  \n",
       "2    1.0            0.0            0.0  0.0      1.0   Апартаменты  \n",
       "3    1.0            0.0            0.0  0.0      1.0   Апартаменты  \n",
       "4    1.0            0.0            0.0  1.0      1.0  Гостевой дом  "
      ]
     },
     "execution_count": 40,
     "metadata": {},
     "output_type": "execute_result"
    }
   ],
   "source": [
    "dt.dropna(inplace = True)\n",
    "dt = dt[dt.User_rating <= 10]\n",
    "dt.head()"
   ]
  },
  {
   "cell_type": "code",
   "execution_count": 41,
   "id": "0b5fb140",
   "metadata": {},
   "outputs": [
    {
     "data": {
      "text/html": [
       "<div>\n",
       "<style scoped>\n",
       "    .dataframe tbody tr th:only-of-type {\n",
       "        vertical-align: middle;\n",
       "    }\n",
       "\n",
       "    .dataframe tbody tr th {\n",
       "        vertical-align: top;\n",
       "    }\n",
       "\n",
       "    .dataframe thead th {\n",
       "        text-align: right;\n",
       "    }\n",
       "</style>\n",
       "<table border=\"1\" class=\"dataframe\">\n",
       "  <thead>\n",
       "    <tr style=\"text-align: right;\">\n",
       "      <th></th>\n",
       "      <th>User_rating</th>\n",
       "      <th>Reviews_count</th>\n",
       "      <th>Star_rating</th>\n",
       "      <th>Distance_from_center</th>\n",
       "      <th>Price</th>\n",
       "      <th>Wi-Fi</th>\n",
       "      <th>free_transfer</th>\n",
       "      <th>child_service</th>\n",
       "      <th>bar</th>\n",
       "      <th>parking</th>\n",
       "    </tr>\n",
       "  </thead>\n",
       "  <tbody>\n",
       "    <tr>\n",
       "      <th>count</th>\n",
       "      <td>592.000000</td>\n",
       "      <td>592.000000</td>\n",
       "      <td>592.000000</td>\n",
       "      <td>592.000000</td>\n",
       "      <td>592.000000</td>\n",
       "      <td>592.000000</td>\n",
       "      <td>592.000000</td>\n",
       "      <td>592.000000</td>\n",
       "      <td>592.000000</td>\n",
       "      <td>592.000000</td>\n",
       "    </tr>\n",
       "    <tr>\n",
       "      <th>mean</th>\n",
       "      <td>8.526351</td>\n",
       "      <td>39.523649</td>\n",
       "      <td>1.304054</td>\n",
       "      <td>8786.604730</td>\n",
       "      <td>6271.369932</td>\n",
       "      <td>0.976351</td>\n",
       "      <td>0.006757</td>\n",
       "      <td>0.079392</td>\n",
       "      <td>0.234797</td>\n",
       "      <td>0.851351</td>\n",
       "    </tr>\n",
       "    <tr>\n",
       "      <th>std</th>\n",
       "      <td>0.848577</td>\n",
       "      <td>39.398602</td>\n",
       "      <td>1.658323</td>\n",
       "      <td>11014.400971</td>\n",
       "      <td>4638.545362</td>\n",
       "      <td>0.152080</td>\n",
       "      <td>0.081991</td>\n",
       "      <td>0.270578</td>\n",
       "      <td>0.424231</td>\n",
       "      <td>0.356043</td>\n",
       "    </tr>\n",
       "    <tr>\n",
       "      <th>min</th>\n",
       "      <td>5.300000</td>\n",
       "      <td>11.000000</td>\n",
       "      <td>0.000000</td>\n",
       "      <td>42.000000</td>\n",
       "      <td>500.000000</td>\n",
       "      <td>0.000000</td>\n",
       "      <td>0.000000</td>\n",
       "      <td>0.000000</td>\n",
       "      <td>0.000000</td>\n",
       "      <td>0.000000</td>\n",
       "    </tr>\n",
       "    <tr>\n",
       "      <th>25%</th>\n",
       "      <td>8.000000</td>\n",
       "      <td>16.000000</td>\n",
       "      <td>0.000000</td>\n",
       "      <td>1004.750000</td>\n",
       "      <td>3699.500000</td>\n",
       "      <td>1.000000</td>\n",
       "      <td>0.000000</td>\n",
       "      <td>0.000000</td>\n",
       "      <td>0.000000</td>\n",
       "      <td>1.000000</td>\n",
       "    </tr>\n",
       "    <tr>\n",
       "      <th>50%</th>\n",
       "      <td>8.700000</td>\n",
       "      <td>26.000000</td>\n",
       "      <td>0.000000</td>\n",
       "      <td>2577.500000</td>\n",
       "      <td>5000.000000</td>\n",
       "      <td>1.000000</td>\n",
       "      <td>0.000000</td>\n",
       "      <td>0.000000</td>\n",
       "      <td>0.000000</td>\n",
       "      <td>1.000000</td>\n",
       "    </tr>\n",
       "    <tr>\n",
       "      <th>75%</th>\n",
       "      <td>9.100000</td>\n",
       "      <td>44.000000</td>\n",
       "      <td>3.000000</td>\n",
       "      <td>18536.000000</td>\n",
       "      <td>7506.250000</td>\n",
       "      <td>1.000000</td>\n",
       "      <td>0.000000</td>\n",
       "      <td>0.000000</td>\n",
       "      <td>0.000000</td>\n",
       "      <td>1.000000</td>\n",
       "    </tr>\n",
       "    <tr>\n",
       "      <th>max</th>\n",
       "      <td>10.000000</td>\n",
       "      <td>388.000000</td>\n",
       "      <td>5.000000</td>\n",
       "      <td>49879.000000</td>\n",
       "      <td>44737.000000</td>\n",
       "      <td>1.000000</td>\n",
       "      <td>1.000000</td>\n",
       "      <td>1.000000</td>\n",
       "      <td>1.000000</td>\n",
       "      <td>1.000000</td>\n",
       "    </tr>\n",
       "  </tbody>\n",
       "</table>\n",
       "</div>"
      ],
      "text/plain": [
       "       User_rating  Reviews_count  Star_rating  Distance_from_center  \\\n",
       "count   592.000000     592.000000   592.000000            592.000000   \n",
       "mean      8.526351      39.523649     1.304054           8786.604730   \n",
       "std       0.848577      39.398602     1.658323          11014.400971   \n",
       "min       5.300000      11.000000     0.000000             42.000000   \n",
       "25%       8.000000      16.000000     0.000000           1004.750000   \n",
       "50%       8.700000      26.000000     0.000000           2577.500000   \n",
       "75%       9.100000      44.000000     3.000000          18536.000000   \n",
       "max      10.000000     388.000000     5.000000          49879.000000   \n",
       "\n",
       "              Price       Wi-Fi  free_transfer  child_service         bar  \\\n",
       "count    592.000000  592.000000     592.000000     592.000000  592.000000   \n",
       "mean    6271.369932    0.976351       0.006757       0.079392    0.234797   \n",
       "std     4638.545362    0.152080       0.081991       0.270578    0.424231   \n",
       "min      500.000000    0.000000       0.000000       0.000000    0.000000   \n",
       "25%     3699.500000    1.000000       0.000000       0.000000    0.000000   \n",
       "50%     5000.000000    1.000000       0.000000       0.000000    0.000000   \n",
       "75%     7506.250000    1.000000       0.000000       0.000000    0.000000   \n",
       "max    44737.000000    1.000000       1.000000       1.000000    1.000000   \n",
       "\n",
       "          parking  \n",
       "count  592.000000  \n",
       "mean     0.851351  \n",
       "std      0.356043  \n",
       "min      0.000000  \n",
       "25%      1.000000  \n",
       "50%      1.000000  \n",
       "75%      1.000000  \n",
       "max      1.000000  "
      ]
     },
     "execution_count": 41,
     "metadata": {},
     "output_type": "execute_result"
    }
   ],
   "source": [
    "dt.describe()"
   ]
  },
  {
   "cell_type": "code",
   "execution_count": 42,
   "id": "d83ab6c2",
   "metadata": {},
   "outputs": [
    {
     "data": {
      "text/plain": [
       "(592, 11)"
      ]
     },
     "execution_count": 42,
     "metadata": {},
     "output_type": "execute_result"
    }
   ],
   "source": [
    "dt.shape"
   ]
  },
  {
   "cell_type": "markdown",
   "id": "b1864563",
   "metadata": {},
   "source": [
    "Получившийся датасет содержит 592 строчки, сохраним его в новый файл и будем работать уже с ним"
   ]
  },
  {
   "cell_type": "code",
   "execution_count": 43,
   "id": "41b205b3",
   "metadata": {},
   "outputs": [],
   "source": [
    "dt.to_csv('New_preprocessed.csv', index = False)"
   ]
  },
  {
   "cell_type": "markdown",
   "id": "d8415c72",
   "metadata": {},
   "source": [
    " <a name=\"analysis\"></a>\n",
    "## Разведывательный анализ данных и визуализация"
   ]
  },
  {
   "cell_type": "code",
   "execution_count": 44,
   "id": "de93ab0e",
   "metadata": {},
   "outputs": [],
   "source": [
    "data = pd.read_csv('New_preprocessed.csv')"
   ]
  },
  {
   "cell_type": "code",
   "execution_count": 45,
   "id": "0668e2b6",
   "metadata": {},
   "outputs": [
    {
     "data": {
      "text/html": [
       "<div>\n",
       "<style scoped>\n",
       "    .dataframe tbody tr th:only-of-type {\n",
       "        vertical-align: middle;\n",
       "    }\n",
       "\n",
       "    .dataframe tbody tr th {\n",
       "        vertical-align: top;\n",
       "    }\n",
       "\n",
       "    .dataframe thead th {\n",
       "        text-align: right;\n",
       "    }\n",
       "</style>\n",
       "<table border=\"1\" class=\"dataframe\">\n",
       "  <thead>\n",
       "    <tr style=\"text-align: right;\">\n",
       "      <th></th>\n",
       "      <th>User_rating</th>\n",
       "      <th>Reviews_count</th>\n",
       "      <th>Star_rating</th>\n",
       "      <th>Distance_from_center</th>\n",
       "      <th>Price</th>\n",
       "      <th>Wi-Fi</th>\n",
       "      <th>free_transfer</th>\n",
       "      <th>child_service</th>\n",
       "      <th>bar</th>\n",
       "      <th>parking</th>\n",
       "    </tr>\n",
       "  </thead>\n",
       "  <tbody>\n",
       "    <tr>\n",
       "      <th>User_rating</th>\n",
       "      <td>1.000000</td>\n",
       "      <td>0.081525</td>\n",
       "      <td>0.034337</td>\n",
       "      <td>-0.122050</td>\n",
       "      <td>0.164089</td>\n",
       "      <td>0.066460</td>\n",
       "      <td>-0.026883</td>\n",
       "      <td>-0.030498</td>\n",
       "      <td>-0.012046</td>\n",
       "      <td>0.137876</td>\n",
       "    </tr>\n",
       "    <tr>\n",
       "      <th>Reviews_count</th>\n",
       "      <td>0.081525</td>\n",
       "      <td>1.000000</td>\n",
       "      <td>0.351193</td>\n",
       "      <td>-0.090754</td>\n",
       "      <td>0.197620</td>\n",
       "      <td>0.000941</td>\n",
       "      <td>-0.037763</td>\n",
       "      <td>-0.012160</td>\n",
       "      <td>0.260802</td>\n",
       "      <td>-0.037504</td>\n",
       "    </tr>\n",
       "    <tr>\n",
       "      <th>Star_rating</th>\n",
       "      <td>0.034337</td>\n",
       "      <td>0.351193</td>\n",
       "      <td>1.000000</td>\n",
       "      <td>0.011677</td>\n",
       "      <td>0.446368</td>\n",
       "      <td>0.062105</td>\n",
       "      <td>-0.015135</td>\n",
       "      <td>0.044156</td>\n",
       "      <td>0.405836</td>\n",
       "      <td>-0.017892</td>\n",
       "    </tr>\n",
       "    <tr>\n",
       "      <th>Distance_from_center</th>\n",
       "      <td>-0.122050</td>\n",
       "      <td>-0.090754</td>\n",
       "      <td>0.011677</td>\n",
       "      <td>1.000000</td>\n",
       "      <td>-0.041921</td>\n",
       "      <td>-0.010923</td>\n",
       "      <td>0.050442</td>\n",
       "      <td>0.077191</td>\n",
       "      <td>0.085516</td>\n",
       "      <td>-0.078714</td>\n",
       "    </tr>\n",
       "    <tr>\n",
       "      <th>Price</th>\n",
       "      <td>0.164089</td>\n",
       "      <td>0.197620</td>\n",
       "      <td>0.446368</td>\n",
       "      <td>-0.041921</td>\n",
       "      <td>1.000000</td>\n",
       "      <td>0.003229</td>\n",
       "      <td>-0.032405</td>\n",
       "      <td>0.047441</td>\n",
       "      <td>0.329151</td>\n",
       "      <td>0.002387</td>\n",
       "    </tr>\n",
       "    <tr>\n",
       "      <th>Wi-Fi</th>\n",
       "      <td>0.066460</td>\n",
       "      <td>0.000941</td>\n",
       "      <td>0.062105</td>\n",
       "      <td>-0.010923</td>\n",
       "      <td>0.003229</td>\n",
       "      <td>1.000000</td>\n",
       "      <td>0.012836</td>\n",
       "      <td>0.004584</td>\n",
       "      <td>0.007531</td>\n",
       "      <td>0.184961</td>\n",
       "    </tr>\n",
       "    <tr>\n",
       "      <th>free_transfer</th>\n",
       "      <td>-0.026883</td>\n",
       "      <td>-0.037763</td>\n",
       "      <td>-0.015135</td>\n",
       "      <td>0.050442</td>\n",
       "      <td>-0.032405</td>\n",
       "      <td>0.012836</td>\n",
       "      <td>1.000000</td>\n",
       "      <td>0.052049</td>\n",
       "      <td>0.002958</td>\n",
       "      <td>-0.081461</td>\n",
       "    </tr>\n",
       "    <tr>\n",
       "      <th>child_service</th>\n",
       "      <td>-0.030498</td>\n",
       "      <td>-0.012160</td>\n",
       "      <td>0.044156</td>\n",
       "      <td>0.077191</td>\n",
       "      <td>0.047441</td>\n",
       "      <td>0.004584</td>\n",
       "      <td>0.052049</td>\n",
       "      <td>1.000000</td>\n",
       "      <td>0.146884</td>\n",
       "      <td>-0.088056</td>\n",
       "    </tr>\n",
       "    <tr>\n",
       "      <th>bar</th>\n",
       "      <td>-0.012046</td>\n",
       "      <td>0.260802</td>\n",
       "      <td>0.405836</td>\n",
       "      <td>0.085516</td>\n",
       "      <td>0.329151</td>\n",
       "      <td>0.007531</td>\n",
       "      <td>0.002958</td>\n",
       "      <td>0.146884</td>\n",
       "      <td>1.000000</td>\n",
       "      <td>-0.082201</td>\n",
       "    </tr>\n",
       "    <tr>\n",
       "      <th>parking</th>\n",
       "      <td>0.137876</td>\n",
       "      <td>-0.037504</td>\n",
       "      <td>-0.017892</td>\n",
       "      <td>-0.078714</td>\n",
       "      <td>0.002387</td>\n",
       "      <td>0.184961</td>\n",
       "      <td>-0.081461</td>\n",
       "      <td>-0.088056</td>\n",
       "      <td>-0.082201</td>\n",
       "      <td>1.000000</td>\n",
       "    </tr>\n",
       "  </tbody>\n",
       "</table>\n",
       "</div>"
      ],
      "text/plain": [
       "                      User_rating  Reviews_count  Star_rating  \\\n",
       "User_rating              1.000000       0.081525     0.034337   \n",
       "Reviews_count            0.081525       1.000000     0.351193   \n",
       "Star_rating              0.034337       0.351193     1.000000   \n",
       "Distance_from_center    -0.122050      -0.090754     0.011677   \n",
       "Price                    0.164089       0.197620     0.446368   \n",
       "Wi-Fi                    0.066460       0.000941     0.062105   \n",
       "free_transfer           -0.026883      -0.037763    -0.015135   \n",
       "child_service           -0.030498      -0.012160     0.044156   \n",
       "bar                     -0.012046       0.260802     0.405836   \n",
       "parking                  0.137876      -0.037504    -0.017892   \n",
       "\n",
       "                      Distance_from_center     Price     Wi-Fi  free_transfer  \\\n",
       "User_rating                      -0.122050  0.164089  0.066460      -0.026883   \n",
       "Reviews_count                    -0.090754  0.197620  0.000941      -0.037763   \n",
       "Star_rating                       0.011677  0.446368  0.062105      -0.015135   \n",
       "Distance_from_center              1.000000 -0.041921 -0.010923       0.050442   \n",
       "Price                            -0.041921  1.000000  0.003229      -0.032405   \n",
       "Wi-Fi                            -0.010923  0.003229  1.000000       0.012836   \n",
       "free_transfer                     0.050442 -0.032405  0.012836       1.000000   \n",
       "child_service                     0.077191  0.047441  0.004584       0.052049   \n",
       "bar                               0.085516  0.329151  0.007531       0.002958   \n",
       "parking                          -0.078714  0.002387  0.184961      -0.081461   \n",
       "\n",
       "                      child_service       bar   parking  \n",
       "User_rating               -0.030498 -0.012046  0.137876  \n",
       "Reviews_count             -0.012160  0.260802 -0.037504  \n",
       "Star_rating                0.044156  0.405836 -0.017892  \n",
       "Distance_from_center       0.077191  0.085516 -0.078714  \n",
       "Price                      0.047441  0.329151  0.002387  \n",
       "Wi-Fi                      0.004584  0.007531  0.184961  \n",
       "free_transfer              0.052049  0.002958 -0.081461  \n",
       "child_service              1.000000  0.146884 -0.088056  \n",
       "bar                        0.146884  1.000000 -0.082201  \n",
       "parking                   -0.088056 -0.082201  1.000000  "
      ]
     },
     "execution_count": 45,
     "metadata": {},
     "output_type": "execute_result"
    }
   ],
   "source": [
    "data.corr()"
   ]
  },
  {
   "cell_type": "code",
   "execution_count": 46,
   "id": "97e8d53f",
   "metadata": {},
   "outputs": [
    {
     "data": {
      "text/html": [
       "<div>\n",
       "<style scoped>\n",
       "    .dataframe tbody tr th:only-of-type {\n",
       "        vertical-align: middle;\n",
       "    }\n",
       "\n",
       "    .dataframe tbody tr th {\n",
       "        vertical-align: top;\n",
       "    }\n",
       "\n",
       "    .dataframe thead th {\n",
       "        text-align: right;\n",
       "    }\n",
       "</style>\n",
       "<table border=\"1\" class=\"dataframe\">\n",
       "  <thead>\n",
       "    <tr style=\"text-align: right;\">\n",
       "      <th></th>\n",
       "      <th>User_rating</th>\n",
       "      <th>Reviews_count</th>\n",
       "      <th>Star_rating</th>\n",
       "      <th>Distance_from_center</th>\n",
       "      <th>Price</th>\n",
       "      <th>Wi-Fi</th>\n",
       "      <th>free_transfer</th>\n",
       "      <th>child_service</th>\n",
       "      <th>bar</th>\n",
       "      <th>parking</th>\n",
       "    </tr>\n",
       "  </thead>\n",
       "  <tbody>\n",
       "    <tr>\n",
       "      <th>count</th>\n",
       "      <td>592.000000</td>\n",
       "      <td>592.000000</td>\n",
       "      <td>592.000000</td>\n",
       "      <td>592.000000</td>\n",
       "      <td>592.000000</td>\n",
       "      <td>592.000000</td>\n",
       "      <td>592.000000</td>\n",
       "      <td>592.000000</td>\n",
       "      <td>592.000000</td>\n",
       "      <td>592.000000</td>\n",
       "    </tr>\n",
       "    <tr>\n",
       "      <th>mean</th>\n",
       "      <td>8.526351</td>\n",
       "      <td>39.523649</td>\n",
       "      <td>1.304054</td>\n",
       "      <td>8786.604730</td>\n",
       "      <td>6271.369932</td>\n",
       "      <td>0.976351</td>\n",
       "      <td>0.006757</td>\n",
       "      <td>0.079392</td>\n",
       "      <td>0.234797</td>\n",
       "      <td>0.851351</td>\n",
       "    </tr>\n",
       "    <tr>\n",
       "      <th>std</th>\n",
       "      <td>0.848577</td>\n",
       "      <td>39.398602</td>\n",
       "      <td>1.658323</td>\n",
       "      <td>11014.400971</td>\n",
       "      <td>4638.545362</td>\n",
       "      <td>0.152080</td>\n",
       "      <td>0.081991</td>\n",
       "      <td>0.270578</td>\n",
       "      <td>0.424231</td>\n",
       "      <td>0.356043</td>\n",
       "    </tr>\n",
       "    <tr>\n",
       "      <th>min</th>\n",
       "      <td>5.300000</td>\n",
       "      <td>11.000000</td>\n",
       "      <td>0.000000</td>\n",
       "      <td>42.000000</td>\n",
       "      <td>500.000000</td>\n",
       "      <td>0.000000</td>\n",
       "      <td>0.000000</td>\n",
       "      <td>0.000000</td>\n",
       "      <td>0.000000</td>\n",
       "      <td>0.000000</td>\n",
       "    </tr>\n",
       "    <tr>\n",
       "      <th>25%</th>\n",
       "      <td>8.000000</td>\n",
       "      <td>16.000000</td>\n",
       "      <td>0.000000</td>\n",
       "      <td>1004.750000</td>\n",
       "      <td>3699.500000</td>\n",
       "      <td>1.000000</td>\n",
       "      <td>0.000000</td>\n",
       "      <td>0.000000</td>\n",
       "      <td>0.000000</td>\n",
       "      <td>1.000000</td>\n",
       "    </tr>\n",
       "    <tr>\n",
       "      <th>50%</th>\n",
       "      <td>8.700000</td>\n",
       "      <td>26.000000</td>\n",
       "      <td>0.000000</td>\n",
       "      <td>2577.500000</td>\n",
       "      <td>5000.000000</td>\n",
       "      <td>1.000000</td>\n",
       "      <td>0.000000</td>\n",
       "      <td>0.000000</td>\n",
       "      <td>0.000000</td>\n",
       "      <td>1.000000</td>\n",
       "    </tr>\n",
       "    <tr>\n",
       "      <th>75%</th>\n",
       "      <td>9.100000</td>\n",
       "      <td>44.000000</td>\n",
       "      <td>3.000000</td>\n",
       "      <td>18536.000000</td>\n",
       "      <td>7506.250000</td>\n",
       "      <td>1.000000</td>\n",
       "      <td>0.000000</td>\n",
       "      <td>0.000000</td>\n",
       "      <td>0.000000</td>\n",
       "      <td>1.000000</td>\n",
       "    </tr>\n",
       "    <tr>\n",
       "      <th>max</th>\n",
       "      <td>10.000000</td>\n",
       "      <td>388.000000</td>\n",
       "      <td>5.000000</td>\n",
       "      <td>49879.000000</td>\n",
       "      <td>44737.000000</td>\n",
       "      <td>1.000000</td>\n",
       "      <td>1.000000</td>\n",
       "      <td>1.000000</td>\n",
       "      <td>1.000000</td>\n",
       "      <td>1.000000</td>\n",
       "    </tr>\n",
       "  </tbody>\n",
       "</table>\n",
       "</div>"
      ],
      "text/plain": [
       "       User_rating  Reviews_count  Star_rating  Distance_from_center  \\\n",
       "count   592.000000     592.000000   592.000000            592.000000   \n",
       "mean      8.526351      39.523649     1.304054           8786.604730   \n",
       "std       0.848577      39.398602     1.658323          11014.400971   \n",
       "min       5.300000      11.000000     0.000000             42.000000   \n",
       "25%       8.000000      16.000000     0.000000           1004.750000   \n",
       "50%       8.700000      26.000000     0.000000           2577.500000   \n",
       "75%       9.100000      44.000000     3.000000          18536.000000   \n",
       "max      10.000000     388.000000     5.000000          49879.000000   \n",
       "\n",
       "              Price       Wi-Fi  free_transfer  child_service         bar  \\\n",
       "count    592.000000  592.000000     592.000000     592.000000  592.000000   \n",
       "mean    6271.369932    0.976351       0.006757       0.079392    0.234797   \n",
       "std     4638.545362    0.152080       0.081991       0.270578    0.424231   \n",
       "min      500.000000    0.000000       0.000000       0.000000    0.000000   \n",
       "25%     3699.500000    1.000000       0.000000       0.000000    0.000000   \n",
       "50%     5000.000000    1.000000       0.000000       0.000000    0.000000   \n",
       "75%     7506.250000    1.000000       0.000000       0.000000    0.000000   \n",
       "max    44737.000000    1.000000       1.000000       1.000000    1.000000   \n",
       "\n",
       "          parking  \n",
       "count  592.000000  \n",
       "mean     0.851351  \n",
       "std      0.356043  \n",
       "min      0.000000  \n",
       "25%      1.000000  \n",
       "50%      1.000000  \n",
       "75%      1.000000  \n",
       "max      1.000000  "
      ]
     },
     "execution_count": 46,
     "metadata": {},
     "output_type": "execute_result"
    }
   ],
   "source": [
    "data.describe()"
   ]
  },
  {
   "cell_type": "code",
   "execution_count": 47,
   "id": "eb5c3e0a",
   "metadata": {},
   "outputs": [
    {
     "data": {
      "text/plain": [
       "Отель           317\n",
       "Гостевой дом    133\n",
       "Апартаменты     117\n",
       "Хостел           17\n",
       "Курорт            8\n",
       "Name: type_hotel, dtype: int64"
      ]
     },
     "execution_count": 47,
     "metadata": {},
     "output_type": "execute_result"
    }
   ],
   "source": [
    "data['type_hotel'].value_counts().sort_values(ascending = False)"
   ]
  },
  {
   "cell_type": "markdown",
   "id": "9c8593e7",
   "metadata": {},
   "source": [
    "Более половины выборки составляют отели, гостевых домов и апартаментов меньше, их примерно поровну; хостелов и курортов гораздо меньше"
   ]
  },
  {
   "cell_type": "code",
   "execution_count": 48,
   "id": "ed2a71b4",
   "metadata": {},
   "outputs": [
    {
     "data": {
      "text/plain": [
       "type_hotel\n",
       "Курорт          8976.250000\n",
       "Отель           7279.794953\n",
       "Апартаменты     6473.965812\n",
       "Гостевой дом    3942.796992\n",
       "Хостел          3017.647059\n",
       "Name: Price, dtype: float64"
      ]
     },
     "execution_count": 48,
     "metadata": {},
     "output_type": "execute_result"
    }
   ],
   "source": [
    "data.groupby('type_hotel').Price.mean().sort_values(ascending = False)"
   ]
  },
  {
   "cell_type": "code",
   "execution_count": 154,
   "id": "247d4479",
   "metadata": {},
   "outputs": [
    {
     "data": {
      "text/plain": [
       "type_hotel\n",
       "Курорт          8057.0\n",
       "Апартаменты     5842.0\n",
       "Отель           5697.0\n",
       "Гостевой дом    3799.0\n",
       "Хостел          3326.0\n",
       "Name: Price, dtype: float64"
      ]
     },
     "execution_count": 154,
     "metadata": {},
     "output_type": "execute_result"
    }
   ],
   "source": [
    "data.groupby('type_hotel').Price.median().sort_values(ascending = False)"
   ]
  },
  {
   "cell_type": "markdown",
   "id": "42cf3b62",
   "metadata": {},
   "source": [
    "- Цена за номер в курортах (базах отдыха) в среднем самые дорогие\n",
    "- Номер в отеле, в среднем, стоит дешевле номера на базах отдыха; плата за апартаменты, в среднем, ниже платы за отели, при этом медиана цены за апартаменты выше, чем у отелей, поэтому можно выдвинуть гипотезу о том, что среди отелей содержатся выбросы по цене (может быть это отели премиум-класса)\n",
    "- Гостевые дома и хостелы самые дешевые.  В среднем, хостел почти в 2,5 раза дешевле номера в отеле и почти в 3 раза дешевле номера на базе отдыха. \n"
   ]
  },
  {
   "cell_type": "code",
   "execution_count": 49,
   "id": "46c3c252",
   "metadata": {},
   "outputs": [
    {
     "data": {
      "text/plain": [
       "type_hotel\n",
       "Апартаменты     8.829060\n",
       "Курорт          8.537500\n",
       "Гостевой дом    8.483459\n",
       "Отель           8.463091\n",
       "Хостел          7.952941\n",
       "Name: User_rating, dtype: float64"
      ]
     },
     "execution_count": 49,
     "metadata": {},
     "output_type": "execute_result"
    }
   ],
   "source": [
    "data.groupby('type_hotel').User_rating.mean().sort_values(ascending = False)"
   ]
  },
  {
   "cell_type": "code",
   "execution_count": 155,
   "id": "dc7da64c",
   "metadata": {},
   "outputs": [
    {
     "data": {
      "text/plain": [
       "type_hotel\n",
       "Апартаменты     8.90\n",
       "Гостевой дом    8.70\n",
       "Курорт          8.65\n",
       "Отель           8.60\n",
       "Хостел          8.00\n",
       "Name: User_rating, dtype: float64"
      ]
     },
     "execution_count": 155,
     "metadata": {},
     "output_type": "execute_result"
    }
   ],
   "source": [
    "data.groupby('type_hotel').User_rating.median().sort_values(ascending = False)"
   ]
  },
  {
   "cell_type": "markdown",
   "id": "27185a7d",
   "metadata": {},
   "source": [
    "Средний рейтинг пользователей по типам объекта проживания:\n",
    "- Самый высокий рейтинг у апартаментов, причем как средний, так и медианный\n",
    "- Ненамного ниже рейтинг курортов, гостевых домов и отелей. Средний рейтинг данных типов мест проживания отличается незначительно - от 8,46 у отелей до 8,54 у курортов. Медианный рейтинг данных типов также варьируется незначительно\n",
    "- Самый низкий рейтинг - у хостелов: 7,9. "
   ]
  },
  {
   "cell_type": "code",
   "execution_count": 50,
   "id": "05ca78c4",
   "metadata": {},
   "outputs": [
    {
     "data": {
      "text/plain": [
       "type_hotel\n",
       "Курорт          80.875000\n",
       "Отель           48.583596\n",
       "Хостел          34.058824\n",
       "Апартаменты     28.888889\n",
       "Гостевой дом    25.496241\n",
       "Name: Reviews_count, dtype: float64"
      ]
     },
     "execution_count": 50,
     "metadata": {},
     "output_type": "execute_result"
    }
   ],
   "source": [
    "data.groupby('type_hotel').Reviews_count.mean().sort_values(ascending = False)"
   ]
  },
  {
   "cell_type": "code",
   "execution_count": 156,
   "id": "22977437",
   "metadata": {},
   "outputs": [
    {
     "data": {
      "text/plain": [
       "type_hotel\n",
       "Курорт          67.5\n",
       "Отель           34.0\n",
       "Хостел          25.0\n",
       "Апартаменты     21.0\n",
       "Гостевой дом    21.0\n",
       "Name: Reviews_count, dtype: float64"
      ]
     },
     "execution_count": 156,
     "metadata": {},
     "output_type": "execute_result"
    }
   ],
   "source": [
    "data.groupby('type_hotel').Reviews_count.median().sort_values(ascending = False)"
   ]
  },
  {
   "cell_type": "markdown",
   "id": "3acf2af7",
   "metadata": {},
   "source": [
    "- В нашей выборке мало курортов - они составляют лишь 1.3% от выборки, возможно за счет этого их показатель числа отзывов выше отелей\n",
    "- Хотя хостелы также составляют маленький процент выборки - 2,8%, среднее число отзывов более, чем в два раза меньше, чем у баз отдыха. Можно предположить, что курорты, в среднем, популярнее\n",
    "- Среднее число отзывов на отели почти в два раза выше числа отзывов на апартаменты и гостевые дома\n"
   ]
  },
  {
   "cell_type": "code",
   "execution_count": 51,
   "id": "cdb7e645",
   "metadata": {},
   "outputs": [
    {
     "data": {
      "text/plain": [
       "type_hotel\n",
       "Курорт          12475.750000\n",
       "Гостевой дом    10951.330827\n",
       "Отель            9349.526814\n",
       "Хостел           5165.705882\n",
       "Апартаменты      5074.529915\n",
       "Name: Distance_from_center, dtype: float64"
      ]
     },
     "execution_count": 51,
     "metadata": {},
     "output_type": "execute_result"
    }
   ],
   "source": [
    "data.groupby('type_hotel').Distance_from_center.mean().sort_values(ascending = False)"
   ]
  },
  {
   "cell_type": "code",
   "execution_count": 157,
   "id": "59f8ff47",
   "metadata": {},
   "outputs": [
    {
     "data": {
      "text/plain": [
       "type_hotel\n",
       "Курорт          3971.0\n",
       "Отель           3028.0\n",
       "Гостевой дом    2905.0\n",
       "Апартаменты     1610.0\n",
       "Хостел          1033.0\n",
       "Name: Distance_from_center, dtype: float64"
      ]
     },
     "execution_count": 157,
     "metadata": {},
     "output_type": "execute_result"
    }
   ],
   "source": [
    "data.groupby('type_hotel').Distance_from_center.median().sort_values(ascending = False)"
   ]
  },
  {
   "cell_type": "markdown",
   "id": "ac64c9a0",
   "metadata": {},
   "source": [
    "- Курорты, гостевые дома, отели расположены дальше от центра города, чем хостелы и апартаменты. Возможно, значительная доля отелей, гостевых домов и курортов расположена за чертой города, вблизи пляжей\n",
    "- Хостелы и апартаменты, в среднем, расположены ближе к центру города\n",
    "- То, что медианное расстояние от центра города у курортов, отелей и гостевых домов значительно ниже среднего расстояния от центра города, наводит на мысли о выбросах, которые существенно завышают средний показатель"
   ]
  },
  {
   "cell_type": "code",
   "execution_count": 52,
   "id": "2f159801",
   "metadata": {},
   "outputs": [
    {
     "data": {
      "text/plain": [
       "type_hotel    Star_rating\n",
       "Апартаменты   3.0             12\n",
       "              4.0             10\n",
       "Гостевой дом  3.0              4\n",
       "              2.0              3\n",
       "              4.0              1\n",
       "Курорт        4.0              3\n",
       "              3.0              2\n",
       "              5.0              2\n",
       "              2.0              1\n",
       "Отель         3.0            108\n",
       "              4.0             53\n",
       "              2.0             26\n",
       "              5.0             10\n",
       "              1.0              6\n",
       "Name: Star_rating, dtype: int64"
      ]
     },
     "execution_count": 52,
     "metadata": {},
     "output_type": "execute_result"
    }
   ],
   "source": [
    "data[data.Star_rating > 0].groupby('type_hotel')['Star_rating'].value_counts()"
   ]
  },
  {
   "cell_type": "markdown",
   "id": "35622236",
   "metadata": {},
   "source": [
    "- У 66% отелей есть звездный рейтинг. Почти 55% из них имеют трехзвездночный рейтинг, 26% - четырехзвездочный. Около 5% - пятизвездочные, при этом на одно- и двухзвездочные отели приходится около 14%\n",
    "- Хотя курортов в нашей выборке и мало, все они имеют звездный рейтинг, 37.5% - четырехзвездочные, по 25% приходится на пятизвездочные и трехзвездочные\n",
    "- В данных о звездном рейтинге апартаментов и гостевых домов много нулевых значений - следствие большого количества пропусков в данных (многие места размещения такого типа попросту не имеют звездного рейтинга). Лишь 10% апартаментов и гостевых домов, в среднем, имеют звездный рейтинг"
   ]
  },
  {
   "cell_type": "code",
   "execution_count": 53,
   "id": "f9bbda2e",
   "metadata": {
    "scrolled": false
   },
   "outputs": [
    {
     "name": "stdout",
     "output_type": "stream",
     "text": [
      "Wi-Fi  type_hotel  \n",
      "0.0    Отель             8\n",
      "       Гостевой дом      5\n",
      "       Апартаменты       1\n",
      "1.0    Отель           309\n",
      "       Гостевой дом    128\n",
      "       Апартаменты     116\n",
      "       Хостел           17\n",
      "       Курорт            8\n",
      "Name: type_hotel, dtype: int64\n",
      "----------------------------------------------------------------------------------------------------\n",
      "free_transfer  type_hotel  \n",
      "0.0            Отель           313\n",
      "               Гостевой дом    133\n",
      "               Апартаменты     117\n",
      "               Хостел           17\n",
      "               Курорт            8\n",
      "1.0            Отель             4\n",
      "Name: type_hotel, dtype: int64\n",
      "----------------------------------------------------------------------------------------------------\n",
      "child_service  type_hotel  \n",
      "0.0            Отель           287\n",
      "               Гостевой дом    123\n",
      "               Апартаменты     111\n",
      "               Хостел           17\n",
      "               Курорт            7\n",
      "1.0            Отель            30\n",
      "               Гостевой дом     10\n",
      "               Апартаменты       6\n",
      "               Курорт            1\n",
      "Name: type_hotel, dtype: int64\n",
      "----------------------------------------------------------------------------------------------------\n",
      "bar  type_hotel  \n",
      "0.0  Отель           204\n",
      "     Гостевой дом    119\n",
      "     Апартаменты     108\n",
      "     Хостел           17\n",
      "     Курорт            5\n",
      "1.0  Отель           113\n",
      "     Гостевой дом     14\n",
      "     Апартаменты       9\n",
      "     Курорт            3\n",
      "Name: type_hotel, dtype: int64\n",
      "----------------------------------------------------------------------------------------------------\n",
      "parking  type_hotel  \n",
      "0.0      Отель            63\n",
      "         Гостевой дом     17\n",
      "         Апартаменты       4\n",
      "         Курорт            2\n",
      "         Хостел            2\n",
      "1.0      Отель           254\n",
      "         Гостевой дом    116\n",
      "         Апартаменты     113\n",
      "         Хостел           15\n",
      "         Курорт            6\n",
      "Name: type_hotel, dtype: int64\n",
      "----------------------------------------------------------------------------------------------------\n"
     ]
    }
   ],
   "source": [
    "for i in range(len(columns)):\n",
    "    print(data.groupby(columns[i])['type_hotel'].value_counts())\n",
    "    print('-' * 100)"
   ]
  },
  {
   "cell_type": "code",
   "execution_count": 148,
   "id": "4d2a00d9",
   "metadata": {},
   "outputs": [
    {
     "data": {
      "text/plain": [
       "free_transfer\n",
       "1.0    15517.000000\n",
       "0.0     8740.819728\n",
       "Name: Distance_from_center, dtype: float64"
      ]
     },
     "execution_count": 148,
     "metadata": {},
     "output_type": "execute_result"
    }
   ],
   "source": [
    "data.groupby('free_transfer').Distance_from_center.mean().sort_values(ascending = False)"
   ]
  },
  {
   "cell_type": "code",
   "execution_count": 158,
   "id": "bcc6e8e2",
   "metadata": {},
   "outputs": [
    {
     "data": {
      "text/plain": [
       "free_transfer\n",
       "1.0    18218.0\n",
       "0.0     2545.0\n",
       "Name: Distance_from_center, dtype: float64"
      ]
     },
     "execution_count": 158,
     "metadata": {},
     "output_type": "execute_result"
    }
   ],
   "source": [
    "data.groupby('free_transfer').Distance_from_center.median().sort_values(ascending = False)"
   ]
  },
  {
   "cell_type": "markdown",
   "id": "be5b4b07",
   "metadata": {},
   "source": [
    "Аэропорт находится не в черте города, поэтому чем дальше расстояние места проживания от центра города, тем более вероятен бесплатный трансферт от/до аэропорта "
   ]
  },
  {
   "cell_type": "code",
   "execution_count": 159,
   "id": "bb2485eb",
   "metadata": {},
   "outputs": [
    {
     "name": "stdout",
     "output_type": "stream",
     "text": [
      "Wi-Fi\n",
      "0.0    6175.214286\n",
      "1.0    6273.698962\n",
      "Name: Price, dtype: float64\n",
      "Wi-Fi\n",
      "0.0    5531.0\n",
      "1.0    5000.0\n",
      "Name: Price, dtype: float64\n",
      "----------------------------------------------------------------------------------------------------\n",
      "free_transfer\n",
      "0.0    6283.756803\n",
      "1.0    4450.500000\n",
      "Name: Price, dtype: float64\n",
      "free_transfer\n",
      "0.0    5000.0\n",
      "1.0    3760.5\n",
      "Name: Price, dtype: float64\n",
      "----------------------------------------------------------------------------------------------------\n",
      "child_service\n",
      "0.0    6206.801835\n",
      "1.0    7020.085106\n",
      "Name: Price, dtype: float64\n",
      "child_service\n",
      "0.0    4919.0\n",
      "1.0    5634.0\n",
      "Name: Price, dtype: float64\n",
      "----------------------------------------------------------------------------------------------------\n",
      "bar\n",
      "0.0    5426.346578\n",
      "1.0    9025.294964\n",
      "Name: Price, dtype: float64\n",
      "bar\n",
      "0.0    4736.0\n",
      "1.0    7500.0\n",
      "Name: Price, dtype: float64\n",
      "----------------------------------------------------------------------------------------------------\n",
      "parking\n",
      "0.0    6244.897727\n",
      "1.0    6275.992063\n",
      "Name: Price, dtype: float64\n",
      "parking\n",
      "0.0    4756.0\n",
      "1.0    5000.0\n",
      "Name: Price, dtype: float64\n",
      "----------------------------------------------------------------------------------------------------\n"
     ]
    }
   ],
   "source": [
    "for i in range(len(columns)):\n",
    "    print(data.groupby(columns[i]).Price.mean())\n",
    "    print(data.groupby(columns[i]).Price.median())\n",
    "    print('-' * 100)"
   ]
  },
  {
   "cell_type": "markdown",
   "id": "fda848d7",
   "metadata": {},
   "source": [
    "- Бесплатный Wi-Fi есть во многих местах проживания, поэтому его наличие/отсутствие практически не влияет на цену проживания\n",
    "- По наблюдению из предыдущих пунктов, места проживания с бесплатным трансфером до аэропорта расположены почти в два раза дальше от центра города, поэтому, возможно, номера в таких отелях стоят, в среднем, дешевле из-за большей удаленности от города\n",
    "- Места, предоставляющие развлекательные услуги для детей, стоят, в среднем, дороже, чем без\n",
    "- Места проживания без баров, в основном, апартаменты и гостевые дома, которые стоят значительно дешевле отелей, и тем более курортов, поэтому места с барами, в среднем, дороже\n",
    "- Мест, предоставляющих бесплатную парковку, больше. Средняя цена в местах проживания с предоставлением парковки и без приблизительно равна. Возможно, данная услуга не является конкурентным преимуществом для отелей и поэтому не делает разницы в цене"
   ]
  },
  {
   "cell_type": "markdown",
   "id": "d38a64f5",
   "metadata": {},
   "source": [
    "### Визуализация"
   ]
  },
  {
   "cell_type": "code",
   "execution_count": 57,
   "id": "88404288",
   "metadata": {},
   "outputs": [],
   "source": [
    "import seaborn as sns\n",
    "import matplotlib.pyplot as plt"
   ]
  },
  {
   "cell_type": "code",
   "execution_count": 59,
   "id": "e71bc388",
   "metadata": {},
   "outputs": [
    {
     "data": {
      "text/html": [
       "<div>\n",
       "<style scoped>\n",
       "    .dataframe tbody tr th:only-of-type {\n",
       "        vertical-align: middle;\n",
       "    }\n",
       "\n",
       "    .dataframe tbody tr th {\n",
       "        vertical-align: top;\n",
       "    }\n",
       "\n",
       "    .dataframe thead th {\n",
       "        text-align: right;\n",
       "    }\n",
       "</style>\n",
       "<table border=\"1\" class=\"dataframe\">\n",
       "  <thead>\n",
       "    <tr style=\"text-align: right;\">\n",
       "      <th></th>\n",
       "      <th>User_rating</th>\n",
       "      <th>Reviews_count</th>\n",
       "      <th>Star_rating</th>\n",
       "      <th>Distance_from_center</th>\n",
       "      <th>Price</th>\n",
       "      <th>Wi-Fi</th>\n",
       "      <th>free_transfer</th>\n",
       "      <th>child_service</th>\n",
       "      <th>bar</th>\n",
       "      <th>parking</th>\n",
       "      <th>type_hotel</th>\n",
       "    </tr>\n",
       "  </thead>\n",
       "  <tbody>\n",
       "    <tr>\n",
       "      <th>0</th>\n",
       "      <td>8.2</td>\n",
       "      <td>107.0</td>\n",
       "      <td>4.0</td>\n",
       "      <td>317</td>\n",
       "      <td>2992.0</td>\n",
       "      <td>1.0</td>\n",
       "      <td>0.0</td>\n",
       "      <td>0.0</td>\n",
       "      <td>1.0</td>\n",
       "      <td>1.0</td>\n",
       "      <td>Отель</td>\n",
       "    </tr>\n",
       "    <tr>\n",
       "      <th>1</th>\n",
       "      <td>8.8</td>\n",
       "      <td>99.0</td>\n",
       "      <td>3.0</td>\n",
       "      <td>3338</td>\n",
       "      <td>4213.0</td>\n",
       "      <td>1.0</td>\n",
       "      <td>0.0</td>\n",
       "      <td>0.0</td>\n",
       "      <td>0.0</td>\n",
       "      <td>1.0</td>\n",
       "      <td>Отель</td>\n",
       "    </tr>\n",
       "    <tr>\n",
       "      <th>2</th>\n",
       "      <td>9.0</td>\n",
       "      <td>96.0</td>\n",
       "      <td>0.0</td>\n",
       "      <td>1145</td>\n",
       "      <td>3214.0</td>\n",
       "      <td>1.0</td>\n",
       "      <td>0.0</td>\n",
       "      <td>0.0</td>\n",
       "      <td>0.0</td>\n",
       "      <td>1.0</td>\n",
       "      <td>Апартаменты</td>\n",
       "    </tr>\n",
       "    <tr>\n",
       "      <th>3</th>\n",
       "      <td>9.0</td>\n",
       "      <td>116.0</td>\n",
       "      <td>4.0</td>\n",
       "      <td>1875</td>\n",
       "      <td>10299.0</td>\n",
       "      <td>1.0</td>\n",
       "      <td>0.0</td>\n",
       "      <td>0.0</td>\n",
       "      <td>0.0</td>\n",
       "      <td>1.0</td>\n",
       "      <td>Апартаменты</td>\n",
       "    </tr>\n",
       "    <tr>\n",
       "      <th>4</th>\n",
       "      <td>9.0</td>\n",
       "      <td>103.0</td>\n",
       "      <td>0.0</td>\n",
       "      <td>24457</td>\n",
       "      <td>6950.0</td>\n",
       "      <td>1.0</td>\n",
       "      <td>0.0</td>\n",
       "      <td>0.0</td>\n",
       "      <td>1.0</td>\n",
       "      <td>1.0</td>\n",
       "      <td>Гостевой дом</td>\n",
       "    </tr>\n",
       "  </tbody>\n",
       "</table>\n",
       "</div>"
      ],
      "text/plain": [
       "   User_rating  Reviews_count  Star_rating  Distance_from_center    Price  \\\n",
       "0          8.2          107.0          4.0                   317   2992.0   \n",
       "1          8.8           99.0          3.0                  3338   4213.0   \n",
       "2          9.0           96.0          0.0                  1145   3214.0   \n",
       "3          9.0          116.0          4.0                  1875  10299.0   \n",
       "4          9.0          103.0          0.0                 24457   6950.0   \n",
       "\n",
       "   Wi-Fi  free_transfer  child_service  bar  parking    type_hotel  \n",
       "0    1.0            0.0            0.0  1.0      1.0         Отель  \n",
       "1    1.0            0.0            0.0  0.0      1.0         Отель  \n",
       "2    1.0            0.0            0.0  0.0      1.0   Апартаменты  \n",
       "3    1.0            0.0            0.0  0.0      1.0   Апартаменты  \n",
       "4    1.0            0.0            0.0  1.0      1.0  Гостевой дом  "
      ]
     },
     "execution_count": 59,
     "metadata": {},
     "output_type": "execute_result"
    }
   ],
   "source": [
    "data.head()"
   ]
  },
  {
   "cell_type": "code",
   "execution_count": 60,
   "id": "9f8c95e5",
   "metadata": {},
   "outputs": [
    {
     "data": {
      "text/plain": [
       "array(['Отель', 'Апартаменты', 'Гостевой дом', 'Курорт', 'Хостел'],\n",
       "      dtype=object)"
      ]
     },
     "execution_count": 60,
     "metadata": {},
     "output_type": "execute_result"
    }
   ],
   "source": [
    "data.type_hotel.unique()"
   ]
  },
  {
   "cell_type": "code",
   "execution_count": 113,
   "id": "1a2b0733",
   "metadata": {},
   "outputs": [
    {
     "data": {
      "text/plain": [
       "0.0    351\n",
       "3.0    126\n",
       "4.0     67\n",
       "2.0     30\n",
       "5.0     12\n",
       "1.0      6\n",
       "Name: Star_rating, dtype: int64"
      ]
     },
     "execution_count": 113,
     "metadata": {},
     "output_type": "execute_result"
    }
   ],
   "source": [
    "data.Star_rating.value_counts()"
   ]
  },
  {
   "cell_type": "code",
   "execution_count": 152,
   "id": "58088efb",
   "metadata": {},
   "outputs": [
    {
     "data": {
      "image/png": "[encoded data removed]",
      "text/plain": [
       "<Figure size 864x864 with 2 Axes>"
      ]
     },
     "metadata": {
      "needs_background": "light"
     },
     "output_type": "display_data"
    }
   ],
   "source": [
    "plt.figure(figsize=(12,12))\n",
    "sns.heatmap(data.corr(), cmap='coolwarm',\n",
    "            vmin=-1, vmax=1, \n",
    "            square=True,\n",
    "            linewidths=0.1,annot_kws={\"fontsize\":8},\n",
    "            annot=True);\n",
    "\n",
    "plt.title('Матрица корреляций\\n\\n', fontsize = 15);"
   ]
  },
  {
   "cell_type": "markdown",
   "id": "3f12ace3",
   "metadata": {},
   "source": [
    "- Возможно, существует положительная зависимость между ценой и звездным рейтингом\n",
    "- Возможно, существует положительная зависимость между звездным рейтингом и числом отзывов\n",
    "- Возможно наблюдается положительная зависимость между звездным рейтингом и наличием бара"
   ]
  },
  {
   "cell_type": "code",
   "execution_count": 67,
   "id": "9b87d54c",
   "metadata": {},
   "outputs": [
    {
     "data": {
      "image/png": "[encoded data removed]",
      "text/plain": [
       "<Figure size 1080x576 with 1 Axes>"
      ]
     },
     "metadata": {},
     "output_type": "display_data"
    }
   ],
   "source": [
    "plt.figure(figsize=(15,8))\n",
    "sns.set(font_scale=1.2)\n",
    "sns.scatterplot(x='Distance_from_center', y='Price', hue = 'type_hotel', data=data)\n",
    "plt.xlabel('Distance from center')\n",
    "plt.ylabel('Price')\n",
    "plt.show()"
   ]
  },
  {
   "cell_type": "markdown",
   "id": "e3cd2903",
   "metadata": {},
   "source": [
    "- По построенному выше графику можно сделать вывод о том, что содержатся выбросы - как по цене, так и по расстоянию от центра города. \n",
    "- При этом практически все выбросы по цене являются отелями\n",
    "- Выбросы по расстоянию от центра города, в основном являются отелями и гостевыми домами. Так же имеется по 1 наблюдению-выбросу среди курорта (возможно это база Роза Хутор) и апартаменты\n",
    "- Основная масса данных сосредоточена по цене до 10 тыс. рублей в день и до 5 км от центра города, при этом также наблюдается довольно большое количество наблюдений на расстоянии 15-30 км от центра города\n",
    "- Таким образом, подтверждаются предположения о том, что среди отелей и гостевых домов содержатся выбросы по расстоянию от центра города, которые значительно увеличивают среднее расстояние (также подтверждается такая гипотеза и относительно курортов, так как в выборке их всего 8, поэтому даже 1-2 выброса могут оказать существенное влияние\n",
    "- Также подтверждается гипотеза о наличии выбросов по цене среди отелей, о наличии так называемых отелей премиум-класса (4-5 звездочных), которые завышают средний показатель цены"
   ]
  },
  {
   "cell_type": "code",
   "execution_count": 142,
   "id": "e627dd11",
   "metadata": {},
   "outputs": [
    {
     "data": {
      "image/png": "[encoded data removed]",
      "text/plain": [
       "<Figure size 1080x576 with 1 Axes>"
      ]
     },
     "metadata": {},
     "output_type": "display_data"
    }
   ],
   "source": [
    "plt.figure(figsize=(15,8))\n",
    "sns.set(font_scale=1.2)\n",
    "sns.scatterplot(x='Distance_from_center', y='Price', hue = 'Star_rating', data=data, palette = 'tab10')\n",
    "plt.xlabel('Distance from center')\n",
    "plt.ylabel('Price')\n",
    "plt.show()"
   ]
  },
  {
   "cell_type": "code",
   "execution_count": 174,
   "id": "7312aa4e",
   "metadata": {},
   "outputs": [
    {
     "data": {
      "image/png": "[encoded data removed]",
      "text/plain": [
       "<Figure size 1080x576 with 1 Axes>"
      ]
     },
     "metadata": {},
     "output_type": "display_data"
    }
   ],
   "source": [
    "plt.figure(figsize=(15,8))\n",
    "sns.set(font_scale=1.2)\n",
    "sns.scatterplot(x='Distance_from_center', y='Price', hue = 'Star_rating', data=data[data.type_hotel == 'Отель'], palette = 'tab10')\n",
    "plt.xlabel('Distance from center')\n",
    "plt.ylim(0, 8000)\n",
    "plt.xlim(0, 2000)\n",
    "plt.ylabel('Price')\n",
    "plt.show()"
   ]
  },
  {
   "cell_type": "markdown",
   "id": "52d0051c",
   "metadata": {},
   "source": [
    "- Выбросы по цене наблюдаются среди 4-5 звездочных отелей (подтверждается предположение о наличии отелей премиум-класса. \n",
    "- Выбросы по цене с 0 звездами являются скорее всего следствием пропуска в данных\n",
    "- По приближенной диаграмме можно сказать, что линейной обратной взаимосвязи между расстоянием от отеля до центра города и ценой не наблюдается"
   ]
  },
  {
   "cell_type": "code",
   "execution_count": 144,
   "id": "110e863f",
   "metadata": {},
   "outputs": [
    {
     "data": {
      "image/png": "[encoded data removed]",
      "text/plain": [
       "<Figure size 1008x576 with 1 Axes>"
      ]
     },
     "metadata": {},
     "output_type": "display_data"
    }
   ],
   "source": [
    "plt.figure(figsize=(14,8))\n",
    "sns.set (font_scale= 1.2 )\n",
    "sns.boxplot(x =\"Star_rating\", y =\"User_rating\", data = data)\n",
    "plt.show()"
   ]
  },
  {
   "cell_type": "markdown",
   "id": "c6779001",
   "metadata": {},
   "source": [
    "- Пользовательский рейтинг мест проживания со звездным рейтингом 0 содержит выбросы. Возможно, обслуживание в местах, где звездный рейтинг являлся следствием не пропусков в датасете, а отсутствием такого рейтинга у отеля, как такового, хуже, чем у имеющих звезды\n",
    "- Пользовательский рейтинг отелей с 1 звездой в целом не репрезентативен, так как выборка содержит всего 6 наблюдений\n",
    "- Начиная с двух звезд, средний пользовательский рейтинг увеличивается с увеличением звездного рейтинга (прямое соотношение), что в целом достаточно логично - лучшие отели по критериям звезд имеют лучший рейтинг и в Интернет-отзывах"
   ]
  },
  {
   "cell_type": "code",
   "execution_count": 152,
   "id": "240b9c3e",
   "metadata": {},
   "outputs": [
    {
     "data": {
      "image/png": "[encoded data removed]",
      "text/plain": [
       "<Figure size 1008x576 with 1 Axes>"
      ]
     },
     "metadata": {},
     "output_type": "display_data"
    }
   ],
   "source": [
    "plt.figure(figsize=(14,8))\n",
    "sns.set (font_scale= 1.2 )\n",
    "sns.boxplot(x =\"parking\", y =\"Price\", data = data[data.type_hotel == 'Отель'])\n",
    "plt.show()"
   ]
  },
  {
   "cell_type": "markdown",
   "id": "1f7d29d7",
   "metadata": {},
   "source": [
    "- В целом, цена за номера в отелях, предоставляющих услугу бесплатной парковки равна\n",
    "- Много выбросов из числа отелей, предоставляющих парковку. Можно сделать вывод, что премиум-отели со стоимостью выше 15000 рублей в день гораздо чаще предоставляют парковку, чем нет"
   ]
  },
  {
   "cell_type": "code",
   "execution_count": 168,
   "id": "36a733a7",
   "metadata": {},
   "outputs": [
    {
     "data": {
      "image/png": "[encoded data removed]",
      "text/plain": [
       "<Figure size 1008x576 with 1 Axes>"
      ]
     },
     "metadata": {},
     "output_type": "display_data"
    }
   ],
   "source": [
    "plt.figure(figsize=(14,8))\n",
    "sns.set (font_scale= 1.2 )\n",
    "sns.boxplot(x =\"bar\", y =\"Price\", data = data[data.type_hotel == 'Отель'])\n",
    "plt.show()"
   ]
  },
  {
   "cell_type": "markdown",
   "id": "88eb0049",
   "metadata": {},
   "source": [
    "- Из графика следует, что в обеих категориях отелей (с баром и без) существуют выбросы\n",
    "- При этом, среднее значение цены отелей с баром выше, чем без\n",
    "- Гипотеза о прямой зависимости стоимости номера в отеле от наличия бара не принимается"
   ]
  },
  {
   "cell_type": "code",
   "execution_count": 145,
   "id": "81158346",
   "metadata": {},
   "outputs": [
    {
     "data": {
      "image/png": "[encoded data removed]",
      "text/plain": [
       "<Figure size 1008x576 with 1 Axes>"
      ]
     },
     "metadata": {},
     "output_type": "display_data"
    }
   ],
   "source": [
    "plt.figure(figsize=(14,8))\n",
    "sns.set (font_scale= 1.2 )\n",
    "sns.boxplot(x =\"Star_rating\", y =\"Reviews_count\", data = data)\n",
    "plt.show()"
   ]
  },
  {
   "cell_type": "markdown",
   "id": "34a5c14d",
   "metadata": {},
   "source": [
    "- В среднем, число отзывов для мест размещения с разным количеством звезд находится приблизительно на одном уровне \n",
    "- Среди отелей с 0 звездами (пропуски в данных или отсутствие рейтинга в принципе), с 3 звездами содержится много выбросов\n",
    "- Гипотеза о наличии прямой взаимосвязи между звездным рейтингом и числом отзывов, на наш взгляд не подтвердилось"
   ]
  },
  {
   "cell_type": "code",
   "execution_count": 162,
   "id": "b885f77a",
   "metadata": {},
   "outputs": [
    {
     "data": {
      "image/png": "[encoded data removed]",
      "text/plain": [
       "<Figure size 720x1584 with 6 Axes>"
      ]
     },
     "metadata": {},
     "output_type": "display_data"
    }
   ],
   "source": [
    "data_star_0 = data[data.Star_rating == 0]\n",
    "data_star_1 = data[data.Star_rating == 1]\n",
    "data_star_2 = data[data.Star_rating == 2]\n",
    "data_star_3 = data[data.Star_rating == 3]\n",
    "data_star_4 = data[data.Star_rating == 4]\n",
    "data_star_5 = data[data.Star_rating == 5]\n",
    "fig, (ax1, ax2, ax3, ax4, ax5, ax6) = plt.subplots(6, 1, figsize=(10, 22), sharex = True)\n",
    "ax1.hist(x = 'Price', data = data_star_0, color = 'b', bins = 30)\n",
    "ax1.set_ylabel('Count')\n",
    "ax2.hist(x = 'Price', data = data_star_1, color = 'g', bins = 4)\n",
    "ax2.set_ylabel('Count')\n",
    "ax3.hist(x = 'Price', data = data_star_2, color = 'r',  bins = 10)\n",
    "ax3.set_ylabel('Count')\n",
    "ax4.set_ylabel('Count')\n",
    "ax5.set_ylabel('Count')\n",
    "ax6.set_ylabel('Count')\n",
    "ax6.set_xlabel('Price')\n",
    "ax6.set_xticks([1000, 2000, 4000, 5000, 7500, 10000, 15000, 20000])\n",
    "ax4.hist(x = 'Price', data = data_star_3, color = 'c',  bins = 12)\n",
    "ax5.hist(x = 'Price', data = data_star_4, color = 'm',  bins = 12)\n",
    "ax6.hist(x = 'Price', data = data_star_5, color = 'y',  bins = 10)\n",
    "labels = ['Star 0', 'Star 1', 'Star 2', 'Star 3', 'Star 4', 'Star 5']\n",
    "colors = ['b', 'g', 'r', 'c', 'm', 'y']\n",
    "handles = [plt.Rectangle((0, 0), 1, 1, color=color) for color in colors]\n",
    "plt.figlegend(handles, labels, ncol=6)\n",
    "plt.xticks(rotation=90)\n",
    "plt.show()"
   ]
  },
  {
   "cell_type": "markdown",
   "id": "51f01b28",
   "metadata": {},
   "source": [
    "- Как следует из графиков, цены на номера находятся в прямой зависимости от звездного рейтинга: с увеличением количества звезд увеличивается (смещается вправо) и мода цены на номер в объекте размещения. \n",
    "- Таким образом, гипотеза о прямой взаимосвязи между звездным рейтингом и ценой подтверждается"
   ]
  },
  {
   "cell_type": "markdown",
   "id": "bad7eb62",
   "metadata": {},
   "source": [
    " <a name=\"mo\"></a>\n",
    "## Машинное обучение"
   ]
  },
  {
   "cell_type": "markdown",
   "id": "edf6cf20",
   "metadata": {},
   "source": [
    "Для нас наиболее важным критерием является цена, при этом совсем необязательно чтобы она была низкой, так как слишком низкая цена может являться следствием недостатков в месте проживания\n",
    "\n",
    "Подходящий ценовой диапазон для нас - от 1200 до 5000 рублей в день, поэтому добавим новый признак - Price1 - индикатор (1 - если объект попадает в наш ценовой диапазон, 0 - если нет), старую колонку с ценой (Price) удалим\n",
    "\n",
    "Также преобразуем колонку type_hotel - с помощью метода get_dummies библиотеки pandas перекодируем категориальную переменную\n",
    "В итоге будет создана n-1 новая колонка, где n - количество уникальных значений колонки type_hotel"
   ]
  },
  {
   "cell_type": "code",
   "execution_count": 177,
   "id": "fe18286b",
   "metadata": {},
   "outputs": [],
   "source": [
    "data = pd.read_csv('New_preprocessed.csv')\n",
    "data['Price1'] = data['Price'].apply(lambda x: 1 if (x <= 5000) and (x >= 1200) else 0)\n",
    "k = data.drop(columns = 'Price')\n",
    "k = pd.get_dummies(k, drop_first = True)"
   ]
  },
  {
   "cell_type": "code",
   "execution_count": 178,
   "id": "7f355e36",
   "metadata": {},
   "outputs": [
    {
     "data": {
      "text/html": [
       "<div>\n",
       "<style scoped>\n",
       "    .dataframe tbody tr th:only-of-type {\n",
       "        vertical-align: middle;\n",
       "    }\n",
       "\n",
       "    .dataframe tbody tr th {\n",
       "        vertical-align: top;\n",
       "    }\n",
       "\n",
       "    .dataframe thead th {\n",
       "        text-align: right;\n",
       "    }\n",
       "</style>\n",
       "<table border=\"1\" class=\"dataframe\">\n",
       "  <thead>\n",
       "    <tr style=\"text-align: right;\">\n",
       "      <th></th>\n",
       "      <th>User_rating</th>\n",
       "      <th>Reviews_count</th>\n",
       "      <th>Star_rating</th>\n",
       "      <th>Distance_from_center</th>\n",
       "      <th>Wi-Fi</th>\n",
       "      <th>free_transfer</th>\n",
       "      <th>child_service</th>\n",
       "      <th>bar</th>\n",
       "      <th>parking</th>\n",
       "      <th>Price1</th>\n",
       "      <th>type_hotel_Гостевой дом</th>\n",
       "      <th>type_hotel_Курорт</th>\n",
       "      <th>type_hotel_Отель</th>\n",
       "      <th>type_hotel_Хостел</th>\n",
       "    </tr>\n",
       "  </thead>\n",
       "  <tbody>\n",
       "    <tr>\n",
       "      <th>0</th>\n",
       "      <td>8.2</td>\n",
       "      <td>107.0</td>\n",
       "      <td>4.0</td>\n",
       "      <td>317</td>\n",
       "      <td>1.0</td>\n",
       "      <td>0.0</td>\n",
       "      <td>0.0</td>\n",
       "      <td>1.0</td>\n",
       "      <td>1.0</td>\n",
       "      <td>1</td>\n",
       "      <td>0</td>\n",
       "      <td>0</td>\n",
       "      <td>1</td>\n",
       "      <td>0</td>\n",
       "    </tr>\n",
       "    <tr>\n",
       "      <th>1</th>\n",
       "      <td>8.8</td>\n",
       "      <td>99.0</td>\n",
       "      <td>3.0</td>\n",
       "      <td>3338</td>\n",
       "      <td>1.0</td>\n",
       "      <td>0.0</td>\n",
       "      <td>0.0</td>\n",
       "      <td>0.0</td>\n",
       "      <td>1.0</td>\n",
       "      <td>1</td>\n",
       "      <td>0</td>\n",
       "      <td>0</td>\n",
       "      <td>1</td>\n",
       "      <td>0</td>\n",
       "    </tr>\n",
       "    <tr>\n",
       "      <th>2</th>\n",
       "      <td>9.0</td>\n",
       "      <td>96.0</td>\n",
       "      <td>0.0</td>\n",
       "      <td>1145</td>\n",
       "      <td>1.0</td>\n",
       "      <td>0.0</td>\n",
       "      <td>0.0</td>\n",
       "      <td>0.0</td>\n",
       "      <td>1.0</td>\n",
       "      <td>1</td>\n",
       "      <td>0</td>\n",
       "      <td>0</td>\n",
       "      <td>0</td>\n",
       "      <td>0</td>\n",
       "    </tr>\n",
       "    <tr>\n",
       "      <th>3</th>\n",
       "      <td>9.0</td>\n",
       "      <td>116.0</td>\n",
       "      <td>4.0</td>\n",
       "      <td>1875</td>\n",
       "      <td>1.0</td>\n",
       "      <td>0.0</td>\n",
       "      <td>0.0</td>\n",
       "      <td>0.0</td>\n",
       "      <td>1.0</td>\n",
       "      <td>0</td>\n",
       "      <td>0</td>\n",
       "      <td>0</td>\n",
       "      <td>0</td>\n",
       "      <td>0</td>\n",
       "    </tr>\n",
       "    <tr>\n",
       "      <th>4</th>\n",
       "      <td>9.0</td>\n",
       "      <td>103.0</td>\n",
       "      <td>0.0</td>\n",
       "      <td>24457</td>\n",
       "      <td>1.0</td>\n",
       "      <td>0.0</td>\n",
       "      <td>0.0</td>\n",
       "      <td>1.0</td>\n",
       "      <td>1.0</td>\n",
       "      <td>0</td>\n",
       "      <td>1</td>\n",
       "      <td>0</td>\n",
       "      <td>0</td>\n",
       "      <td>0</td>\n",
       "    </tr>\n",
       "    <tr>\n",
       "      <th>5</th>\n",
       "      <td>9.3</td>\n",
       "      <td>222.0</td>\n",
       "      <td>4.0</td>\n",
       "      <td>230</td>\n",
       "      <td>1.0</td>\n",
       "      <td>0.0</td>\n",
       "      <td>0.0</td>\n",
       "      <td>0.0</td>\n",
       "      <td>1.0</td>\n",
       "      <td>0</td>\n",
       "      <td>0</td>\n",
       "      <td>1</td>\n",
       "      <td>0</td>\n",
       "      <td>0</td>\n",
       "    </tr>\n",
       "    <tr>\n",
       "      <th>6</th>\n",
       "      <td>8.0</td>\n",
       "      <td>134.0</td>\n",
       "      <td>3.0</td>\n",
       "      <td>980</td>\n",
       "      <td>1.0</td>\n",
       "      <td>0.0</td>\n",
       "      <td>0.0</td>\n",
       "      <td>0.0</td>\n",
       "      <td>1.0</td>\n",
       "      <td>0</td>\n",
       "      <td>0</td>\n",
       "      <td>0</td>\n",
       "      <td>1</td>\n",
       "      <td>0</td>\n",
       "    </tr>\n",
       "    <tr>\n",
       "      <th>7</th>\n",
       "      <td>8.4</td>\n",
       "      <td>96.0</td>\n",
       "      <td>2.0</td>\n",
       "      <td>18487</td>\n",
       "      <td>0.0</td>\n",
       "      <td>0.0</td>\n",
       "      <td>0.0</td>\n",
       "      <td>0.0</td>\n",
       "      <td>0.0</td>\n",
       "      <td>1</td>\n",
       "      <td>0</td>\n",
       "      <td>0</td>\n",
       "      <td>1</td>\n",
       "      <td>0</td>\n",
       "    </tr>\n",
       "    <tr>\n",
       "      <th>8</th>\n",
       "      <td>8.5</td>\n",
       "      <td>18.0</td>\n",
       "      <td>0.0</td>\n",
       "      <td>1989</td>\n",
       "      <td>1.0</td>\n",
       "      <td>0.0</td>\n",
       "      <td>0.0</td>\n",
       "      <td>0.0</td>\n",
       "      <td>1.0</td>\n",
       "      <td>1</td>\n",
       "      <td>1</td>\n",
       "      <td>0</td>\n",
       "      <td>0</td>\n",
       "      <td>0</td>\n",
       "    </tr>\n",
       "    <tr>\n",
       "      <th>9</th>\n",
       "      <td>8.9</td>\n",
       "      <td>38.0</td>\n",
       "      <td>3.0</td>\n",
       "      <td>387</td>\n",
       "      <td>1.0</td>\n",
       "      <td>0.0</td>\n",
       "      <td>0.0</td>\n",
       "      <td>0.0</td>\n",
       "      <td>1.0</td>\n",
       "      <td>1</td>\n",
       "      <td>0</td>\n",
       "      <td>0</td>\n",
       "      <td>1</td>\n",
       "      <td>0</td>\n",
       "    </tr>\n",
       "  </tbody>\n",
       "</table>\n",
       "</div>"
      ],
      "text/plain": [
       "   User_rating  Reviews_count  Star_rating  Distance_from_center  Wi-Fi  \\\n",
       "0          8.2          107.0          4.0                   317    1.0   \n",
       "1          8.8           99.0          3.0                  3338    1.0   \n",
       "2          9.0           96.0          0.0                  1145    1.0   \n",
       "3          9.0          116.0          4.0                  1875    1.0   \n",
       "4          9.0          103.0          0.0                 24457    1.0   \n",
       "5          9.3          222.0          4.0                   230    1.0   \n",
       "6          8.0          134.0          3.0                   980    1.0   \n",
       "7          8.4           96.0          2.0                 18487    0.0   \n",
       "8          8.5           18.0          0.0                  1989    1.0   \n",
       "9          8.9           38.0          3.0                   387    1.0   \n",
       "\n",
       "   free_transfer  child_service  bar  parking  Price1  \\\n",
       "0            0.0            0.0  1.0      1.0       1   \n",
       "1            0.0            0.0  0.0      1.0       1   \n",
       "2            0.0            0.0  0.0      1.0       1   \n",
       "3            0.0            0.0  0.0      1.0       0   \n",
       "4            0.0            0.0  1.0      1.0       0   \n",
       "5            0.0            0.0  0.0      1.0       0   \n",
       "6            0.0            0.0  0.0      1.0       0   \n",
       "7            0.0            0.0  0.0      0.0       1   \n",
       "8            0.0            0.0  0.0      1.0       1   \n",
       "9            0.0            0.0  0.0      1.0       1   \n",
       "\n",
       "   type_hotel_Гостевой дом  type_hotel_Курорт  type_hotel_Отель  \\\n",
       "0                        0                  0                 1   \n",
       "1                        0                  0                 1   \n",
       "2                        0                  0                 0   \n",
       "3                        0                  0                 0   \n",
       "4                        1                  0                 0   \n",
       "5                        0                  1                 0   \n",
       "6                        0                  0                 1   \n",
       "7                        0                  0                 1   \n",
       "8                        1                  0                 0   \n",
       "9                        0                  0                 1   \n",
       "\n",
       "   type_hotel_Хостел  \n",
       "0                  0  \n",
       "1                  0  \n",
       "2                  0  \n",
       "3                  0  \n",
       "4                  0  \n",
       "5                  0  \n",
       "6                  0  \n",
       "7                  0  \n",
       "8                  0  \n",
       "9                  0  "
      ]
     },
     "execution_count": 178,
     "metadata": {},
     "output_type": "execute_result"
    }
   ],
   "source": [
    "k.head(10)"
   ]
  },
  {
   "cell_type": "markdown",
   "id": "7d79f44e",
   "metadata": {},
   "source": [
    "Будем решать задачу классификации, целевая переменная - Price1, где 1 - место размещения подходит нам по цене, 0 - не подходит"
   ]
  },
  {
   "cell_type": "markdown",
   "id": "5782e1a5",
   "metadata": {},
   "source": [
    "Построим случайный лес для решения задачи классификации"
   ]
  },
  {
   "cell_type": "code",
   "execution_count": 179,
   "id": "9d0343f5",
   "metadata": {},
   "outputs": [],
   "source": [
    "from sklearn.ensemble import BaggingClassifier, RandomForestClassifier\n",
    "from sklearn.metrics import accuracy_score, precision_score, recall_score, roc_auc_score, f1_score\n",
    "from sklearn.model_selection import train_test_split\n",
    "from sklearn.tree import DecisionTreeClassifier"
   ]
  },
  {
   "cell_type": "markdown",
   "id": "921b14c4",
   "metadata": {},
   "source": [
    "Разделим нашу выборку на обучающую, валидационную и тестовую в пропорции 0.49: 0.21 : 0.3\n",
    "\n",
    "На валидационной выборке будем подбирать гиперпараметры"
   ]
  },
  {
   "cell_type": "code",
   "execution_count": 180,
   "id": "7b63ef55",
   "metadata": {},
   "outputs": [],
   "source": [
    "y_data = k['Price1']\n",
    "X_data = k.drop(columns = ['Price1'])\n",
    "X_train_full, X_test, y_train_full, y_test = train_test_split(X_data, y_data, test_size=0.3, random_state=42)\n",
    "X_train, X_val, y_train, y_val = train_test_split(X_train_full, y_train_full, test_size=0.3, random_state=42)"
   ]
  },
  {
   "cell_type": "markdown",
   "id": "9b905c66",
   "metadata": {},
   "source": [
    "Так как случайный лес имеет такой гиперпараметр, как число строящихся деревьев, от которого существенно зависит скорость обучения, то построим зависимость значения метрики AUC-ROC от количества деревьев (обучать случайный лес здесь будем на полной обучающей выборке)"
   ]
  },
  {
   "cell_type": "code",
   "execution_count": 165,
   "id": "63374441",
   "metadata": {},
   "outputs": [],
   "source": [
    "n_estimators = [1, 5, 10, 20,30, 40, 50, 60, 80, 100, 200, 300,  500, 700, 900, 1000, 1100, 1300, 1500]\n",
    "auc_scores = []\n",
    "for n in n_estimators:\n",
    "    clf = RandomForestClassifier(n_estimators=n, random_state=123)\n",
    "    clf.fit(X_train_full, y_train_full)\n",
    "    y_pred = clf.predict(X_test)\n",
    "    auc = roc_auc_score(y_test, y_pred)\n",
    "    auc_scores.append(auc)"
   ]
  },
  {
   "cell_type": "code",
   "execution_count": 166,
   "id": "eb0dea2f",
   "metadata": {},
   "outputs": [],
   "source": [
    "import matplotlib.pyplot as plt\n",
    "import numpy as np"
   ]
  },
  {
   "cell_type": "code",
   "execution_count": 167,
   "id": "af978298",
   "metadata": {},
   "outputs": [
    {
     "data": {
      "image/png": "[encoded data removed]",
      "text/plain": [
       "<Figure size 1080x576 with 1 Axes>"
      ]
     },
     "metadata": {
      "needs_background": "light"
     },
     "output_type": "display_data"
    }
   ],
   "source": [
    "plt.figure(figsize = (15, 8))\n",
    "plt.xlabel('Number of trees')\n",
    "plt.ylabel('AUC-ROC score')\n",
    "plt.xticks(np.arange(0, 1700, step=100))\n",
    "plt.title('Random Forest Classifier')\n",
    "plt.plot(n_estimators, auc_scores)\n",
    "plt.show()"
   ]
  },
  {
   "cell_type": "code",
   "execution_count": 168,
   "id": "7c7017c0",
   "metadata": {},
   "outputs": [
    {
     "data": {
      "text/plain": [
       "30"
      ]
     },
     "execution_count": 168,
     "metadata": {},
     "output_type": "execute_result"
    }
   ],
   "source": [
    "max_auc_roc_score = max(enumerate(auc_scores),key=lambda x: x[1])[0]\n",
    "n_estimators[max_auc_roc_score]"
   ]
  },
  {
   "cell_type": "markdown",
   "id": "480ee0b9",
   "metadata": {},
   "source": [
    "Как видно и из графика, и из предыдущей ячейки, максимальное значение метрики AUC-ROC достигается при количестве деревьев - 30, при меньшем значении наш случайный лес недообучается, при большем - ненамного переобучается \n",
    "\n",
    "Поэтому зафиксируем параметр n_estimators = 30, будем подбирать параметры максимальной глубины и минимального числа объектов, необходимого для того, чтобы узел дерева мог бы расщепиться.\n",
    "\n",
    "Обучать модель будем на валидационной выборке с помощью метрики f1-score"
   ]
  },
  {
   "cell_type": "code",
   "execution_count": 169,
   "id": "a299007d",
   "metadata": {},
   "outputs": [
    {
     "name": "stdout",
     "output_type": "stream",
     "text": [
      "best f1 score: 0.6808799790375238\n",
      "best max depth: 7\n",
      "best min samples split: 10\n"
     ]
    }
   ],
   "source": [
    "from sklearn.model_selection import cross_val_score\n",
    "max_depth_candidates = [i for i in range(1, 21)]\n",
    "min_samples_split_candidates = [i for i in range(2, 21)]\n",
    "f1_scores = 0\n",
    "for max_depth in max_depth_candidates:\n",
    "    for min_samples_split in min_samples_split_candidates:\n",
    "        rf = RandomForestClassifier(n_estimators = 30, max_depth = max_depth, min_samples_split =  min_samples_split,\\\n",
    "                                    random_state = 123)\n",
    "        rf.fit(X_train, y_train)\n",
    "        f1 = f1_score(y_val, rf.predict(X_val))\n",
    "        scores = cross_val_score(rf, X_train, y_train, cv=5, scoring='f1_macro')\n",
    "        f1 = scores.mean()\n",
    "        if f1 > f1_scores:\n",
    "            f1_scores = f1\n",
    "            max_depth_best = max_depth\n",
    "            min_samples_split_best = min_samples_split\n",
    "print('best f1 score: ', f1_scores, '\\n', 'best max depth: ', max_depth_best, '\\n', 'best min samples split: ',\\\n",
    "      min_samples_split_best, sep ='')"
   ]
  },
  {
   "cell_type": "markdown",
   "id": "55d4f7f4",
   "metadata": {},
   "source": [
    "Получилось, что наилучшей метрики f1 score модель добивается при max depth = 7, min samples split = 10\n",
    "Посмотрим на качество нашей модели на тестовой выборке с помощью метрик "
   ]
  },
  {
   "cell_type": "code",
   "execution_count": 181,
   "id": "766df594",
   "metadata": {},
   "outputs": [
    {
     "name": "stdout",
     "output_type": "stream",
     "text": [
      "Accuracy: 0.7191011235955056\n",
      "Precision: 0.7029702970297029\n",
      "Recall: 0.7802197802197802\n",
      "AUC-ROC: 0.7176960970064418\n"
     ]
    }
   ],
   "source": [
    "rf =RandomForestClassifier(n_estimators=30, max_depth = 7, min_samples_split =  10,\\\n",
    "                                    random_state=123)\n",
    "rf.fit(X_train_full, y_train_full)\n",
    "rf_pred = rf.predict(X_test)\n",
    "print(\"Accuracy:\", accuracy_score(y_test, rf_pred))\n",
    "print(\"Precision:\", precision_score(y_test, rf_pred))\n",
    "print(\"Recall:\", recall_score(y_test, rf_pred))\n",
    "print(\"AUC-ROC:\" , roc_auc_score(y_test, rf_pred))"
   ]
  },
  {
   "cell_type": "code",
   "execution_count": 182,
   "id": "697f22f7",
   "metadata": {},
   "outputs": [
    {
     "name": "stdout",
     "output_type": "stream",
     "text": [
      "Accuracy: 0.6853932584269663\n",
      "Precision: 0.6966292134831461\n",
      "Recall: 0.6813186813186813\n",
      "AUC-ROC: 0.6854869268662372\n"
     ]
    }
   ],
   "source": [
    "rf =RandomForestClassifier(random_state=123)\n",
    "rf.fit(X_train_full, y_train_full)\n",
    "rf_pred = rf.predict(X_test)\n",
    "print(\"Accuracy:\", accuracy_score(y_test, rf_pred))\n",
    "print(\"Precision:\", precision_score(y_test, rf_pred))\n",
    "print(\"Recall:\", recall_score(y_test, rf_pred))\n",
    "print(\"AUC-ROC:\" , roc_auc_score(y_test, rf_pred))"
   ]
  },
  {
   "cell_type": "markdown",
   "id": "af5a9cbb",
   "metadata": {},
   "source": [
    "За счет подбора гиперпараметров удалось увеличить все метрики качества"
   ]
  },
  {
   "cell_type": "code",
   "execution_count": 172,
   "id": "f16d6c85",
   "metadata": {
    "scrolled": true
   },
   "outputs": [
    {
     "data": {
      "image/png": "[encoded data removed]",
      "text/plain": [
       "<Figure size 1080x504 with 1 Axes>"
      ]
     },
     "metadata": {
      "needs_background": "light"
     },
     "output_type": "display_data"
    }
   ],
   "source": [
    "rf =RandomForestClassifier(n_estimators=200, max_depth = 12, min_samples_split =  4,\\\n",
    "                                    random_state=123)\n",
    "rf.fit(X_train_full, y_train_full)\n",
    "\n",
    "important_features = rf.feature_importances_\n",
    "names = list(X_train_full.columns)\n",
    "important_list = pd.DataFrame({'feature': names, 'coef': important_features})\n",
    "\n",
    "plt.figure(figsize=(15, 7))\n",
    "plt.bar(important_list['feature'], important_list['coef'])\n",
    "plt.xticks(rotation=90)\n",
    "plt.xlabel('Feature')\n",
    "plt.ylabel('Importance')\n",
    "plt.title('Feature Importances')\n",
    "plt.show()"
   ]
  },
  {
   "cell_type": "markdown",
   "id": "ed01fcfe",
   "metadata": {},
   "source": [
    "Наиболее важными признаками при классификации оказались:\n",
    "- Расстояние до центра города\n",
    "- Звездный рейтинг\n",
    "- Пользовательский рейтинг\n",
    "- Число отзывов"
   ]
  },
  {
   "cell_type": "code",
   "execution_count": null,
   "id": "f3eff0f8",
   "metadata": {},
   "outputs": [],
   "source": []
  }
 ],
 "metadata": {
  "kernelspec": {
   "display_name": "Python 3 (ipykernel)",
   "language": "python",
   "name": "python3"
  },
  "language_info": {
   "codemirror_mode": {
    "name": "ipython",
    "version": 3
   },
   "file_extension": ".py",
   "mimetype": "text/x-python",
   "name": "python",
   "nbconvert_exporter": "python",
   "pygments_lexer": "ipython3",
   "version": "3.9.7"
  }
 },
 "nbformat": 4,
 "nbformat_minor": 5
}
